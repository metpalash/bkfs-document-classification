{
 "cells": [
  {
   "cell_type": "code",
   "execution_count": 143,
   "metadata": {},
   "outputs": [],
   "source": [
    "#imports\n",
    "import pandas as pd\n",
    "import numpy as np\n",
    "from sklearn.model_selection import train_test_split,GridSearchCV\n",
    "from sklearn.metrics import classification_report,confusion_matrix,accuracy_score\n",
    "from sklearn.pipeline import Pipeline\n",
    "from sklearn.feature_extraction.text import CountVectorizer, TfidfTransformer\n",
    "from sklearn.svm import LinearSVC,SVC\n",
    "from sklearn.naive_bayes import MultinomialNB\n",
    "from sklearn.feature_selection import SelectKBest,chi2\n",
    "from sklearn.linear_model import LogisticRegression,SGDClassifier\n",
    "from sklearn.ensemble import RandomForestClassifier\n",
    "from sklearn.neighbors import KNeighborsClassifier\n",
    "from joblib import dump, load\n",
    "import matplotlib.pyplot as plt\n",
    "import seaborn as sns\n",
    "from sklearn.neural_network import MLPClassifier"
   ]
  },
  {
   "cell_type": "code",
   "execution_count": 2,
   "metadata": {},
   "outputs": [],
   "source": [
    "#get the preprocessed data\n",
    "df = pd.read_csv('data_preprocessed.csv')"
   ]
  },
  {
   "cell_type": "code",
   "execution_count": 3,
   "metadata": {},
   "outputs": [
    {
     "data": {
      "text/html": [
       "<div>\n",
       "<style scoped>\n",
       "    .dataframe tbody tr th:only-of-type {\n",
       "        vertical-align: middle;\n",
       "    }\n",
       "\n",
       "    .dataframe tbody tr th {\n",
       "        vertical-align: top;\n",
       "    }\n",
       "\n",
       "    .dataframe thead th {\n",
       "        text-align: right;\n",
       "    }\n",
       "</style>\n",
       "<table border=\"1\" class=\"dataframe\">\n",
       "  <thead>\n",
       "    <tr style=\"text-align: right;\">\n",
       "      <th></th>\n",
       "      <th>type</th>\n",
       "      <th>text</th>\n",
       "      <th>word_count</th>\n",
       "    </tr>\n",
       "  </thead>\n",
       "  <tbody>\n",
       "    <tr>\n",
       "      <th>0</th>\n",
       "      <td>BILL</td>\n",
       "      <td>641356219cbc 422068f04236 6099f4533cc2 6413562...</td>\n",
       "      <td>254</td>\n",
       "    </tr>\n",
       "    <tr>\n",
       "      <th>1</th>\n",
       "      <td>BILL</td>\n",
       "      <td>6ca2dd348663 d38820625542 25c57acdf805 2a49f47...</td>\n",
       "      <td>281</td>\n",
       "    </tr>\n",
       "    <tr>\n",
       "      <th>2</th>\n",
       "      <td>BILL</td>\n",
       "      <td>019e6932b862 d7b4f3b093bf b9699ce57810 7f3b857...</td>\n",
       "      <td>252</td>\n",
       "    </tr>\n",
       "    <tr>\n",
       "      <th>3</th>\n",
       "      <td>BILL</td>\n",
       "      <td>03ea9b9cef7d b136f6349cf3 036087ac04f9 999d400...</td>\n",
       "      <td>434</td>\n",
       "    </tr>\n",
       "    <tr>\n",
       "      <th>4</th>\n",
       "      <td>BILL</td>\n",
       "      <td>586242498a88 9de56cbee28f 7c81ee28575a c5d48b6...</td>\n",
       "      <td>385</td>\n",
       "    </tr>\n",
       "  </tbody>\n",
       "</table>\n",
       "</div>"
      ],
      "text/plain": [
       "   type                                               text  word_count\n",
       "0  BILL  641356219cbc 422068f04236 6099f4533cc2 6413562...         254\n",
       "1  BILL  6ca2dd348663 d38820625542 25c57acdf805 2a49f47...         281\n",
       "2  BILL  019e6932b862 d7b4f3b093bf b9699ce57810 7f3b857...         252\n",
       "3  BILL  03ea9b9cef7d b136f6349cf3 036087ac04f9 999d400...         434\n",
       "4  BILL  586242498a88 9de56cbee28f 7c81ee28575a c5d48b6...         385"
      ]
     },
     "execution_count": 3,
     "metadata": {},
     "output_type": "execute_result"
    }
   ],
   "source": [
    "df.head()"
   ]
  },
  {
   "cell_type": "code",
   "execution_count": 6,
   "metadata": {},
   "outputs": [
    {
     "data": {
      "text/plain": [
       "50262"
      ]
     },
     "execution_count": 6,
     "metadata": {},
     "output_type": "execute_result"
    }
   ],
   "source": [
    "#Total rows of data\n",
    "len(df)"
   ]
  },
  {
   "cell_type": "markdown",
   "metadata": {},
   "source": [
    "# Spliting Data"
   ]
  },
  {
   "cell_type": "code",
   "execution_count": 7,
   "metadata": {},
   "outputs": [],
   "source": [
    "# Separate into input and output columns\n",
    "X = df['text']\n",
    "y = df['type']"
   ]
  },
  {
   "cell_type": "code",
   "execution_count": 8,
   "metadata": {},
   "outputs": [],
   "source": [
    "#Lets split the data into train and test\n",
    "# Split the dataset into train and test sets\n",
    "X_train, X_test, y_train, y_test = train_test_split(X, y, test_size=0.25, random_state=100)"
   ]
  },
  {
   "cell_type": "markdown",
   "metadata": {},
   "source": [
    "# Encoding\n",
    "\n",
    "I would be using sklearn pipeline for all the transformation/ encoding/ modeling steps\n",
    "For encoding the text data i would be using scikit-learn CountVectorizer followed by TfidTransformer"
   ]
  },
  {
   "cell_type": "code",
   "execution_count": 16,
   "metadata": {},
   "outputs": [],
   "source": [
    "#Empty Dictonary for final model comparision\n",
    "final_eval = dict()"
   ]
  },
  {
   "cell_type": "markdown",
   "metadata": {},
   "source": [
    "# Applying Naive Bayes:\n",
    "\n",
    "Naive Bayes is one of the most widely used classification algorithm in text mining applications. Its a good starting point to test its performance on the provided data."
   ]
  },
  {
   "cell_type": "code",
   "execution_count": 19,
   "metadata": {},
   "outputs": [],
   "source": [
    "# Create MultinomialNB model pipeline\n",
    "model_nm = 'MultinomialNB'\n",
    "model = Pipeline([('vect', CountVectorizer(min_df=5, ngram_range=(1,2))),\n",
    "                  ('tfidf', TfidfTransformer()),\n",
    "                  ('model',MultinomialNB()), ],verbose=True)"
   ]
  },
  {
   "cell_type": "code",
   "execution_count": 20,
   "metadata": {},
   "outputs": [
    {
     "name": "stdout",
     "output_type": "stream",
     "text": [
      "[Pipeline] .............. (step 1 of 3) Processing vect, total=  19.8s\n",
      "[Pipeline] ............. (step 2 of 3) Processing tfidf, total=   0.9s\n",
      "[Pipeline] ............. (step 3 of 3) Processing model, total=   0.3s\n"
     ]
    },
    {
     "data": {
      "text/plain": [
       "Pipeline(steps=[('vect', CountVectorizer(min_df=5, ngram_range=(1, 2))),\n",
       "                ('tfidf', TfidfTransformer()), ('model', MultinomialNB())],\n",
       "         verbose=True)"
      ]
     },
     "execution_count": 20,
     "metadata": {},
     "output_type": "execute_result"
    }
   ],
   "source": [
    "#Lets fit the model\n",
    "model.fit(X_train,y_train)"
   ]
  },
  {
   "cell_type": "code",
   "execution_count": 23,
   "metadata": {},
   "outputs": [
    {
     "name": "stdout",
     "output_type": "stream",
     "text": [
      "MultinomialNB accuracy : 0.7342034060162342\n"
     ]
    }
   ],
   "source": [
    "#Lets test the model\n",
    "# Make predictions\n",
    "\n",
    "ytest = np.array(y_test)\n",
    "pred_y = model.predict(X_test)\n",
    "\n",
    "# Evaluate predictions\n",
    "final_eval[model_nm] = accuracy_score(pred_y, y_test)\n",
    "print('{} accuracy : {}'.format(model_nm,accuracy_score(pred_y, y_test)))\n",
    "#print(classification_report(ytest, pred_y))"
   ]
  },
  {
   "cell_type": "markdown",
   "metadata": {},
   "source": [
    "# Applying Logistic Regression"
   ]
  },
  {
   "cell_type": "code",
   "execution_count": 33,
   "metadata": {},
   "outputs": [],
   "source": [
    "# Create Logistic Regression model pipeline\n",
    "model_nm = 'LogisticRegression'\n",
    "model = Pipeline([('vect', CountVectorizer(min_df=5, ngram_range=(1,2))),\n",
    "                  ('tfidf', TfidfTransformer()),\n",
    "                  ('model',LogisticRegression(max_iter=1000)), ],verbose=True)"
   ]
  },
  {
   "cell_type": "code",
   "execution_count": 34,
   "metadata": {},
   "outputs": [
    {
     "name": "stdout",
     "output_type": "stream",
     "text": [
      "[Pipeline] .............. (step 1 of 3) Processing vect, total=  21.1s\n",
      "[Pipeline] ............. (step 2 of 3) Processing tfidf, total=   0.8s\n",
      "[Pipeline] ............. (step 3 of 3) Processing model, total= 2.9min\n"
     ]
    },
    {
     "data": {
      "text/plain": [
       "Pipeline(steps=[('vect', CountVectorizer(min_df=5, ngram_range=(1, 2))),\n",
       "                ('tfidf', TfidfTransformer()),\n",
       "                ('model', LogisticRegression(max_iter=1000))],\n",
       "         verbose=True)"
      ]
     },
     "execution_count": 34,
     "metadata": {},
     "output_type": "execute_result"
    }
   ],
   "source": [
    "#Lets fit the model\n",
    "model.fit(X_train,y_train)"
   ]
  },
  {
   "cell_type": "code",
   "execution_count": 35,
   "metadata": {},
   "outputs": [
    {
     "name": "stdout",
     "output_type": "stream",
     "text": [
      "LogisticRegression accuracy : 0.8623269138946363\n"
     ]
    }
   ],
   "source": [
    "#Lets test the model\n",
    "# Make predictions\n",
    "\n",
    "ytest = np.array(y_test)\n",
    "pred_y = model.predict(X_test)\n",
    "\n",
    "# Evaluate predictions\n",
    "final_eval[model_nm] = accuracy_score(pred_y, y_test)\n",
    "print('{} accuracy : {}'.format(model_nm,accuracy_score(pred_y, y_test)))\n",
    "#print(classification_report(ytest, pred_y))"
   ]
  },
  {
   "cell_type": "markdown",
   "metadata": {},
   "source": [
    "# Applying LinearSVM"
   ]
  },
  {
   "cell_type": "code",
   "execution_count": 27,
   "metadata": {},
   "outputs": [],
   "source": [
    "# Create LinearSVC model pipeline\n",
    "model_nm = 'LinearSVC'\n",
    "model = Pipeline([('vect', CountVectorizer(min_df=5, ngram_range=(1,2))),\n",
    "                  ('tfidf', TfidfTransformer()),\n",
    "                  ('model',LinearSVC()), ],verbose=True)"
   ]
  },
  {
   "cell_type": "code",
   "execution_count": 28,
   "metadata": {},
   "outputs": [
    {
     "name": "stdout",
     "output_type": "stream",
     "text": [
      "[Pipeline] .............. (step 1 of 3) Processing vect, total=  20.4s\n",
      "[Pipeline] ............. (step 2 of 3) Processing tfidf, total=   0.8s\n",
      "[Pipeline] ............. (step 3 of 3) Processing model, total=   6.2s\n"
     ]
    },
    {
     "data": {
      "text/plain": [
       "Pipeline(steps=[('vect', CountVectorizer(min_df=5, ngram_range=(1, 2))),\n",
       "                ('tfidf', TfidfTransformer()), ('model', LinearSVC())],\n",
       "         verbose=True)"
      ]
     },
     "execution_count": 28,
     "metadata": {},
     "output_type": "execute_result"
    }
   ],
   "source": [
    "#Lets fit the model\n",
    "model.fit(X_train,y_train)"
   ]
  },
  {
   "cell_type": "code",
   "execution_count": 29,
   "metadata": {},
   "outputs": [
    {
     "name": "stdout",
     "output_type": "stream",
     "text": [
      "LinearSVC accuracy : 0.8764125417794048\n"
     ]
    }
   ],
   "source": [
    "#Lets test the model\n",
    "# Make predictions\n",
    "\n",
    "ytest = np.array(y_test)\n",
    "pred_y = model.predict(X_test)\n",
    "\n",
    "# Evaluate predictions\n",
    "final_eval[model_nm] = accuracy_score(pred_y, y_test)\n",
    "print('{} accuracy : {}'.format(model_nm,accuracy_score(pred_y, y_test)))\n",
    "#print(classification_report(ytest, pred_y))"
   ]
  },
  {
   "cell_type": "markdown",
   "metadata": {},
   "source": [
    "# Applying MLP Classifier"
   ]
  },
  {
   "cell_type": "code",
   "execution_count": 31,
   "metadata": {},
   "outputs": [],
   "source": [
    "# Create MLPClassifier model pipeline\n",
    "model_nm = 'MLPClassifier'\n",
    "model = Pipeline([('vect', CountVectorizer(min_df=5, ngram_range=(1,2))),\n",
    "                  ('tfidf', TfidfTransformer()),\n",
    "                  ('model',MLPClassifier(alpha=1)), ],verbose=True)"
   ]
  },
  {
   "cell_type": "code",
   "execution_count": 32,
   "metadata": {},
   "outputs": [
    {
     "name": "stdout",
     "output_type": "stream",
     "text": [
      "[Pipeline] .............. (step 1 of 3) Processing vect, total=  20.9s\n",
      "[Pipeline] ............. (step 2 of 3) Processing tfidf, total=   0.8s\n",
      "[Pipeline] ............. (step 3 of 3) Processing model, total=22.9min\n"
     ]
    },
    {
     "name": "stderr",
     "output_type": "stream",
     "text": [
      "/Users/palash/anaconda3/envs/dev/lib/python3.6/site-packages/sklearn/neural_network/_multilayer_perceptron.py:587: UserWarning: Training interrupted by user.\n",
      "  warnings.warn(\"Training interrupted by user.\")\n"
     ]
    },
    {
     "data": {
      "text/plain": [
       "Pipeline(steps=[('vect', CountVectorizer(min_df=5, ngram_range=(1, 2))),\n",
       "                ('tfidf', TfidfTransformer()),\n",
       "                ('model', MLPClassifier(alpha=1))],\n",
       "         verbose=True)"
      ]
     },
     "execution_count": 32,
     "metadata": {},
     "output_type": "execute_result"
    }
   ],
   "source": [
    "#Lets fit the model\n",
    "model.fit(X_train,y_train)"
   ]
  },
  {
   "cell_type": "code",
   "execution_count": null,
   "metadata": {},
   "outputs": [],
   "source": [
    "#Lets test the model\n",
    "# Make predictions\n",
    "\n",
    "ytest = np.array(y_test)\n",
    "pred_y = model.predict(X_test)\n",
    "\n",
    "# Evaluate predictions\n",
    "final_eval[model_nm] = accuracy_score(pred_y, y_test)\n",
    "print('{} accuracy : {}'.format(model_nm,accuracy_score(pred_y, y_test)))\n",
    "#print(classification_report(ytest, pred_y))"
   ]
  },
  {
   "cell_type": "markdown",
   "metadata": {},
   "source": [
    "# Applying SGD Classifier"
   ]
  },
  {
   "cell_type": "code",
   "execution_count": 140,
   "metadata": {},
   "outputs": [],
   "source": [
    "# Create SGDClassifier model pipeline\n",
    "model_nm = 'SGDClassifier'\n",
    "model = Pipeline([('vect', CountVectorizer(min_df=5, ngram_range=(1,2))),\n",
    "                  ('tfidf', TfidfTransformer()),\n",
    "                  ('model',SGDClassifier(max_iter=1000,loss='modified_huber',class_weight='balanced')), ],verbose=True)"
   ]
  },
  {
   "cell_type": "code",
   "execution_count": 141,
   "metadata": {},
   "outputs": [
    {
     "name": "stdout",
     "output_type": "stream",
     "text": [
      "[Pipeline] .............. (step 1 of 3) Processing vect, total=  21.9s\n",
      "[Pipeline] ............. (step 2 of 3) Processing tfidf, total=   0.8s\n",
      "[Pipeline] ............. (step 3 of 3) Processing model, total=   3.1s\n"
     ]
    },
    {
     "data": {
      "text/plain": [
       "Pipeline(steps=[('vect', CountVectorizer(min_df=5, ngram_range=(1, 2))),\n",
       "                ('tfidf', TfidfTransformer()),\n",
       "                ('model',\n",
       "                 SGDClassifier(class_weight='balanced',\n",
       "                               loss='modified_huber'))],\n",
       "         verbose=True)"
      ]
     },
     "execution_count": 141,
     "metadata": {},
     "output_type": "execute_result"
    }
   ],
   "source": [
    "#Lets fit the model\n",
    "model.fit(X_train,y_train)"
   ]
  },
  {
   "cell_type": "code",
   "execution_count": 142,
   "metadata": {},
   "outputs": [
    {
     "name": "stdout",
     "output_type": "stream",
     "text": [
      "SGDClassifier accuracy : 0.8725131306700621\n"
     ]
    }
   ],
   "source": [
    "#Lets test the model\n",
    "# Make predictions\n",
    "\n",
    "ytest = np.array(y_test)\n",
    "pred_y = model.predict(X_test)\n",
    "\n",
    "# Evaluate predictions\n",
    "final_eval[model_nm] = accuracy_score(pred_y, y_test)\n",
    "print('{} accuracy : {}'.format(model_nm,accuracy_score(pred_y, y_test)))\n",
    "#print(classification_report(ytest, pred_y))"
   ]
  },
  {
   "cell_type": "code",
   "execution_count": 61,
   "metadata": {},
   "outputs": [
    {
     "data": {
      "text/plain": [
       "{'MultinomialNB': 0.7342034060162342,\n",
       " 'LogisticRegression': 0.8623269138946363,\n",
       " 'LinearSVC': 0.8764125417794048,\n",
       " 'SGDClassifier': 0.8727518701257361}"
      ]
     },
     "execution_count": 61,
     "metadata": {},
     "output_type": "execute_result"
    }
   ],
   "source": [
    "final_eval"
   ]
  },
  {
   "cell_type": "markdown",
   "metadata": {},
   "source": [
    "# Applying RandomForestClassifier"
   ]
  },
  {
   "cell_type": "code",
   "execution_count": 63,
   "metadata": {},
   "outputs": [],
   "source": [
    "# Create RandomForestClassifier model pipeline\n",
    "model_nm = 'RandomForestClassifier'\n",
    "# Create RandomForestClassifier model\n",
    "model = Pipeline([('vect', CountVectorizer(min_df=5, ngram_range=(1,2))),\n",
    "                  ('tfidf', TfidfTransformer()),\n",
    "                  ('model',RandomForestClassifier(n_estimators=50)) ],verbose=True)\n"
   ]
  },
  {
   "cell_type": "code",
   "execution_count": 64,
   "metadata": {},
   "outputs": [
    {
     "name": "stdout",
     "output_type": "stream",
     "text": [
      "[Pipeline] .............. (step 1 of 3) Processing vect, total=  22.4s\n",
      "[Pipeline] ............. (step 2 of 3) Processing tfidf, total=   0.8s\n",
      "[Pipeline] ............. (step 3 of 3) Processing model, total= 3.5min\n"
     ]
    },
    {
     "data": {
      "text/plain": [
       "Pipeline(steps=[('vect', CountVectorizer(min_df=5, ngram_range=(1, 2))),\n",
       "                ('tfidf', TfidfTransformer()),\n",
       "                ('model', RandomForestClassifier(n_estimators=50))],\n",
       "         verbose=True)"
      ]
     },
     "execution_count": 64,
     "metadata": {},
     "output_type": "execute_result"
    }
   ],
   "source": [
    "#Lets fit the model\n",
    "model.fit(X_train,y_train)"
   ]
  },
  {
   "cell_type": "code",
   "execution_count": 65,
   "metadata": {},
   "outputs": [
    {
     "name": "stdout",
     "output_type": "stream",
     "text": [
      "RandomForestClassifier accuracy : 0.8495941429253542\n"
     ]
    }
   ],
   "source": [
    "#Lets test the model\n",
    "# Make predictions\n",
    "\n",
    "ytest = np.array(y_test)\n",
    "pred_y = model.predict(X_test)\n",
    "\n",
    "# Evaluate predictions\n",
    "final_eval[model_nm] = accuracy_score(pred_y, y_test)\n",
    "print('{} accuracy : {}'.format(model_nm,accuracy_score(pred_y, y_test)))\n",
    "#print(classification_report(ytest, pred_y))"
   ]
  },
  {
   "cell_type": "markdown",
   "metadata": {},
   "source": [
    "# Applying K-Neighbours"
   ]
  },
  {
   "cell_type": "code",
   "execution_count": 136,
   "metadata": {},
   "outputs": [],
   "source": [
    "# Create K-Neighbours model pipeline\n",
    "model_nm = 'K-Neighbours'\n",
    "# Create K-Neighbours model\n",
    "model = Pipeline([('vect', CountVectorizer(min_df=5, ngram_range=(1,2))),\n",
    "                  ('tfidf', TfidfTransformer()),\n",
    "                  ('model',KNeighborsClassifier(n_neighbors=14)) ],verbose=True)"
   ]
  },
  {
   "cell_type": "code",
   "execution_count": 137,
   "metadata": {},
   "outputs": [
    {
     "name": "stdout",
     "output_type": "stream",
     "text": [
      "[Pipeline] .............. (step 1 of 3) Processing vect, total=  20.7s\n",
      "[Pipeline] ............. (step 2 of 3) Processing tfidf, total=   0.8s\n",
      "[Pipeline] ............. (step 3 of 3) Processing model, total=   0.0s\n"
     ]
    },
    {
     "data": {
      "text/plain": [
       "Pipeline(steps=[('vect', CountVectorizer(min_df=5, ngram_range=(1, 2))),\n",
       "                ('tfidf', TfidfTransformer()),\n",
       "                ('model', KNeighborsClassifier(n_neighbors=14))],\n",
       "         verbose=True)"
      ]
     },
     "execution_count": 137,
     "metadata": {},
     "output_type": "execute_result"
    }
   ],
   "source": [
    "#Lets fit the model\n",
    "model.fit(X_train,y_train)"
   ]
  },
  {
   "cell_type": "code",
   "execution_count": 138,
   "metadata": {},
   "outputs": [
    {
     "name": "stdout",
     "output_type": "stream",
     "text": [
      "K-Neighbours accuracy : 0.8193538118733089\n"
     ]
    }
   ],
   "source": [
    "#Lets test the model\n",
    "# Make predictions\n",
    "\n",
    "ytest = np.array(y_test)\n",
    "pred_y = model.predict(X_test)\n",
    "\n",
    "# Evaluate predictions\n",
    "final_eval[model_nm] = accuracy_score(pred_y, y_test)\n",
    "print('{} accuracy : {}'.format(model_nm,accuracy_score(pred_y, y_test)))\n",
    "#print(classification_report(ytest, pred_y))"
   ]
  },
  {
   "cell_type": "markdown",
   "metadata": {},
   "source": [
    "Linear SGD Classifier seems to be performing very well among all the classifiers.\n",
    "Lets see if selecting the k-best features helps it"
   ]
  },
  {
   "cell_type": "markdown",
   "metadata": {},
   "source": [
    "# Applying Chi-Square Feature Selection"
   ]
  },
  {
   "cell_type": "code",
   "execution_count": 125,
   "metadata": {},
   "outputs": [],
   "source": [
    "#SGDClassifier(alpha=0.0001,penalty='elasticnet',n_iter=50)\n",
    "#k=73000\n",
    "# Create SGDClassifier model pipeline\n",
    "model_nm = 'SGDClassifierKbest'\n",
    "model = Pipeline([('vect', CountVectorizer(min_df=5, ngram_range=(1,2))),\n",
    "                  ('tfidf', TfidfTransformer()),\n",
    "                  ('selectkbest',SelectKBest(chi2, k=30000)),\n",
    "                  ('model',SGDClassifier(max_iter=1000,loss='modified_huber',class_weight='balanced')), ],verbose=True)"
   ]
  },
  {
   "cell_type": "code",
   "execution_count": 126,
   "metadata": {},
   "outputs": [
    {
     "name": "stdout",
     "output_type": "stream",
     "text": [
      "[Pipeline] .............. (step 1 of 4) Processing vect, total=  19.7s\n",
      "[Pipeline] ............. (step 2 of 4) Processing tfidf, total=   0.8s\n",
      "[Pipeline] ....... (step 3 of 4) Processing selectkbest, total=   0.5s\n",
      "[Pipeline] ............. (step 4 of 4) Processing model, total=   2.0s\n"
     ]
    },
    {
     "data": {
      "text/plain": [
       "Pipeline(steps=[('vect', CountVectorizer(min_df=5, ngram_range=(1, 2))),\n",
       "                ('tfidf', TfidfTransformer()),\n",
       "                ('selectkbest',\n",
       "                 SelectKBest(k=30000,\n",
       "                             score_func=<function chi2 at 0x7fb403608c80>)),\n",
       "                ('model',\n",
       "                 SGDClassifier(class_weight='balanced',\n",
       "                               loss='modified_huber'))],\n",
       "         verbose=True)"
      ]
     },
     "execution_count": 126,
     "metadata": {},
     "output_type": "execute_result"
    }
   ],
   "source": [
    "#Lets fit the model\n",
    "model.fit(X_train,y_train)"
   ]
  },
  {
   "cell_type": "code",
   "execution_count": 127,
   "metadata": {},
   "outputs": [
    {
     "name": "stdout",
     "output_type": "stream",
     "text": [
      "SGDClassifierKbest accuracy : 0.8656692662740729\n"
     ]
    }
   ],
   "source": [
    "#Lets test the model\n",
    "# Make predictions\n",
    "\n",
    "ytest = np.array(y_test)\n",
    "pred_y = model.predict(X_test)\n",
    "\n",
    "# Evaluate predictions\n",
    "final_eval[model_nm] = accuracy_score(pred_y, y_test)\n",
    "print('{} accuracy : {}'.format(model_nm,accuracy_score(pred_y, y_test)))\n",
    "#print(classification_report(ytest, pred_y))"
   ]
  },
  {
   "cell_type": "code",
   "execution_count": 139,
   "metadata": {},
   "outputs": [
    {
     "data": {
      "text/plain": [
       "{'MultinomialNB': 0.7342034060162342,\n",
       " 'LogisticRegression': 0.8623269138946363,\n",
       " 'LinearSVC': 0.8764125417794048,\n",
       " 'SGDClassifier': 0.8727518701257361,\n",
       " 'RandomForestClassifier': 0.8495941429253542,\n",
       " 'SGDClassifierKbest': 0.8656692662740729,\n",
       " 'K-Neighbours': 0.8193538118733089}"
      ]
     },
     "execution_count": 139,
     "metadata": {},
     "output_type": "execute_result"
    }
   ],
   "source": [
    "final_eval"
   ]
  },
  {
   "cell_type": "markdown",
   "metadata": {},
   "source": [
    "# Applying GridSearch"
   ]
  },
  {
   "cell_type": "code",
   "execution_count": 148,
   "metadata": {},
   "outputs": [],
   "source": [
    "model_nm = 'SGDClassifier'\n",
    "model = Pipeline([('vect', CountVectorizer(min_df=5, ngram_range=(1,2))),\n",
    "                  ('tfidf', TfidfTransformer()),\n",
    "                  ('model',SGDClassifier(class_weight='balanced')), ],verbose=True)"
   ]
  },
  {
   "cell_type": "code",
   "execution_count": 152,
   "metadata": {},
   "outputs": [],
   "source": [
    "pararm_grid = {\"model__loss\":[\"hinge\",\"log\",\"squared_hinge\",\"modified_huber\"]\n",
    "              ,\"model__alpha\":[0.0001,0.001,0.01,0.1]\n",
    "              ,\"model__penalty\":[\"l2\",\"l1\",\"none\"]}"
   ]
  },
  {
   "cell_type": "code",
   "execution_count": 153,
   "metadata": {},
   "outputs": [],
   "source": [
    "grid = GridSearchCV(model,param_grid=pararm_grid)"
   ]
  },
  {
   "cell_type": "code",
   "execution_count": 154,
   "metadata": {},
   "outputs": [
    {
     "name": "stdout",
     "output_type": "stream",
     "text": [
      "[Pipeline] .............. (step 1 of 3) Processing vect, total=  16.1s\n",
      "[Pipeline] ............. (step 2 of 3) Processing tfidf, total=   0.6s\n",
      "[Pipeline] ............. (step 3 of 3) Processing model, total=   2.0s\n",
      "[Pipeline] .............. (step 1 of 3) Processing vect, total=  16.0s\n",
      "[Pipeline] ............. (step 2 of 3) Processing tfidf, total=   0.6s\n",
      "[Pipeline] ............. (step 3 of 3) Processing model, total=   2.2s\n",
      "[Pipeline] .............. (step 1 of 3) Processing vect, total=  16.2s\n",
      "[Pipeline] ............. (step 2 of 3) Processing tfidf, total=   0.6s\n",
      "[Pipeline] ............. (step 3 of 3) Processing model, total=   2.2s\n",
      "[Pipeline] .............. (step 1 of 3) Processing vect, total=  15.9s\n",
      "[Pipeline] ............. (step 2 of 3) Processing tfidf, total=   0.6s\n",
      "[Pipeline] ............. (step 3 of 3) Processing model, total=   2.1s\n",
      "[Pipeline] .............. (step 1 of 3) Processing vect, total=  15.9s\n",
      "[Pipeline] ............. (step 2 of 3) Processing tfidf, total=   0.6s\n",
      "[Pipeline] ............. (step 3 of 3) Processing model, total=   2.1s\n",
      "[Pipeline] .............. (step 1 of 3) Processing vect, total=  16.1s\n",
      "[Pipeline] ............. (step 2 of 3) Processing tfidf, total=   0.6s\n",
      "[Pipeline] ............. (step 3 of 3) Processing model, total=   4.7s\n",
      "[Pipeline] .............. (step 1 of 3) Processing vect, total=  15.9s\n",
      "[Pipeline] ............. (step 2 of 3) Processing tfidf, total=   0.7s\n",
      "[Pipeline] ............. (step 3 of 3) Processing model, total=   4.6s\n",
      "[Pipeline] .............. (step 1 of 3) Processing vect, total=  15.9s\n",
      "[Pipeline] ............. (step 2 of 3) Processing tfidf, total=   0.6s\n",
      "[Pipeline] ............. (step 3 of 3) Processing model, total=   4.2s\n",
      "[Pipeline] .............. (step 1 of 3) Processing vect, total=  15.9s\n",
      "[Pipeline] ............. (step 2 of 3) Processing tfidf, total=   0.6s\n",
      "[Pipeline] ............. (step 3 of 3) Processing model, total=   4.7s\n",
      "[Pipeline] .............. (step 1 of 3) Processing vect, total=  16.0s\n",
      "[Pipeline] ............. (step 2 of 3) Processing tfidf, total=   0.7s\n",
      "[Pipeline] ............. (step 3 of 3) Processing model, total=   4.3s\n",
      "[Pipeline] .............. (step 1 of 3) Processing vect, total=  16.1s\n",
      "[Pipeline] ............. (step 2 of 3) Processing tfidf, total=   0.6s\n",
      "[Pipeline] ............. (step 3 of 3) Processing model, total=   2.8s\n",
      "[Pipeline] .............. (step 1 of 3) Processing vect, total=  16.0s\n",
      "[Pipeline] ............. (step 2 of 3) Processing tfidf, total=   0.6s\n",
      "[Pipeline] ............. (step 3 of 3) Processing model, total=   2.9s\n",
      "[Pipeline] .............. (step 1 of 3) Processing vect, total=  15.9s\n",
      "[Pipeline] ............. (step 2 of 3) Processing tfidf, total=   0.6s\n",
      "[Pipeline] ............. (step 3 of 3) Processing model, total=   2.9s\n",
      "[Pipeline] .............. (step 1 of 3) Processing vect, total=  16.1s\n",
      "[Pipeline] ............. (step 2 of 3) Processing tfidf, total=   0.6s\n",
      "[Pipeline] ............. (step 3 of 3) Processing model, total=   2.8s\n",
      "[Pipeline] .............. (step 1 of 3) Processing vect, total=  16.0s\n",
      "[Pipeline] ............. (step 2 of 3) Processing tfidf, total=   0.7s\n",
      "[Pipeline] ............. (step 3 of 3) Processing model, total=   2.8s\n",
      "[Pipeline] .............. (step 1 of 3) Processing vect, total=  16.2s\n",
      "[Pipeline] ............. (step 2 of 3) Processing tfidf, total=   0.6s\n",
      "[Pipeline] ............. (step 3 of 3) Processing model, total=   3.0s\n",
      "[Pipeline] .............. (step 1 of 3) Processing vect, total=  16.1s\n",
      "[Pipeline] ............. (step 2 of 3) Processing tfidf, total=   0.6s\n",
      "[Pipeline] ............. (step 3 of 3) Processing model, total=   3.2s\n",
      "[Pipeline] .............. (step 1 of 3) Processing vect, total=  16.1s\n",
      "[Pipeline] ............. (step 2 of 3) Processing tfidf, total=   0.6s\n",
      "[Pipeline] ............. (step 3 of 3) Processing model, total=   3.1s\n",
      "[Pipeline] .............. (step 1 of 3) Processing vect, total=  16.0s\n",
      "[Pipeline] ............. (step 2 of 3) Processing tfidf, total=   0.6s\n",
      "[Pipeline] ............. (step 3 of 3) Processing model, total=   3.0s\n",
      "[Pipeline] .............. (step 1 of 3) Processing vect, total=  16.0s\n",
      "[Pipeline] ............. (step 2 of 3) Processing tfidf, total=   0.6s\n",
      "[Pipeline] ............. (step 3 of 3) Processing model, total=   3.3s\n",
      "[Pipeline] .............. (step 1 of 3) Processing vect, total=  16.0s\n",
      "[Pipeline] ............. (step 2 of 3) Processing tfidf, total=   0.6s\n",
      "[Pipeline] ............. (step 3 of 3) Processing model, total=   6.3s\n",
      "[Pipeline] .............. (step 1 of 3) Processing vect, total=  16.0s\n",
      "[Pipeline] ............. (step 2 of 3) Processing tfidf, total=   0.6s\n",
      "[Pipeline] ............. (step 3 of 3) Processing model, total=   6.2s\n",
      "[Pipeline] .............. (step 1 of 3) Processing vect, total=  16.1s\n",
      "[Pipeline] ............. (step 2 of 3) Processing tfidf, total=   0.6s\n",
      "[Pipeline] ............. (step 3 of 3) Processing model, total=   6.4s\n",
      "[Pipeline] .............. (step 1 of 3) Processing vect, total=  16.0s\n",
      "[Pipeline] ............. (step 2 of 3) Processing tfidf, total=   0.6s\n",
      "[Pipeline] ............. (step 3 of 3) Processing model, total=   6.3s\n",
      "[Pipeline] .............. (step 1 of 3) Processing vect, total=  16.0s\n",
      "[Pipeline] ............. (step 2 of 3) Processing tfidf, total=   0.6s\n",
      "[Pipeline] ............. (step 3 of 3) Processing model, total=   6.3s\n",
      "[Pipeline] .............. (step 1 of 3) Processing vect, total=  16.0s\n",
      "[Pipeline] ............. (step 2 of 3) Processing tfidf, total=   0.6s\n",
      "[Pipeline] ............. (step 3 of 3) Processing model, total=   4.3s\n",
      "[Pipeline] .............. (step 1 of 3) Processing vect, total=  16.2s\n",
      "[Pipeline] ............. (step 2 of 3) Processing tfidf, total=   0.7s\n",
      "[Pipeline] ............. (step 3 of 3) Processing model, total=   4.3s\n",
      "[Pipeline] .............. (step 1 of 3) Processing vect, total=  16.0s\n",
      "[Pipeline] ............. (step 2 of 3) Processing tfidf, total=   0.6s\n",
      "[Pipeline] ............. (step 3 of 3) Processing model, total=   4.4s\n",
      "[Pipeline] .............. (step 1 of 3) Processing vect, total=  16.0s\n",
      "[Pipeline] ............. (step 2 of 3) Processing tfidf, total=   0.6s\n",
      "[Pipeline] ............. (step 3 of 3) Processing model, total=   4.5s\n",
      "[Pipeline] .............. (step 1 of 3) Processing vect, total=  16.1s\n",
      "[Pipeline] ............. (step 2 of 3) Processing tfidf, total=   0.7s\n",
      "[Pipeline] ............. (step 3 of 3) Processing model, total=   4.3s\n",
      "[Pipeline] .............. (step 1 of 3) Processing vect, total=  15.8s\n",
      "[Pipeline] ............. (step 2 of 3) Processing tfidf, total=   0.7s\n"
     ]
    },
    {
     "name": "stderr",
     "output_type": "stream",
     "text": [
      "/Users/palash/anaconda3/envs/dev/lib/python3.6/site-packages/sklearn/linear_model/_stochastic_gradient.py:573: ConvergenceWarning: Maximum number of iteration reached before convergence. Consider increasing max_iter to improve the fit.\n",
      "  ConvergenceWarning)\n"
     ]
    },
    {
     "name": "stdout",
     "output_type": "stream",
     "text": [
      "[Pipeline] ............. (step 3 of 3) Processing model, total=  22.6s\n",
      "[Pipeline] .............. (step 1 of 3) Processing vect, total=  16.1s\n",
      "[Pipeline] ............. (step 2 of 3) Processing tfidf, total=   0.6s\n",
      "[Pipeline] ............. (step 3 of 3) Processing model, total=  22.5s\n",
      "[Pipeline] .............. (step 1 of 3) Processing vect, total=  16.0s\n",
      "[Pipeline] ............. (step 2 of 3) Processing tfidf, total=   0.6s\n",
      "[Pipeline] ............. (step 3 of 3) Processing model, total=  24.1s\n",
      "[Pipeline] .............. (step 1 of 3) Processing vect, total=  16.1s\n",
      "[Pipeline] ............. (step 2 of 3) Processing tfidf, total=   0.6s\n",
      "[Pipeline] ............. (step 3 of 3) Processing model, total=  31.0s\n",
      "[Pipeline] .............. (step 1 of 3) Processing vect, total=  16.2s\n",
      "[Pipeline] ............. (step 2 of 3) Processing tfidf, total=   0.7s\n",
      "[Pipeline] ............. (step 3 of 3) Processing model, total=  19.8s\n",
      "[Pipeline] .............. (step 1 of 3) Processing vect, total=  16.1s\n",
      "[Pipeline] ............. (step 2 of 3) Processing tfidf, total=   0.6s\n",
      "[Pipeline] ............. (step 3 of 3) Processing model, total=13.1min\n",
      "[Pipeline] .............. (step 1 of 3) Processing vect, total=  16.1s\n",
      "[Pipeline] ............. (step 2 of 3) Processing tfidf, total=   0.6s\n",
      "[Pipeline] ............. (step 3 of 3) Processing model, total=12.1min\n",
      "[Pipeline] .............. (step 1 of 3) Processing vect, total=  16.2s\n",
      "[Pipeline] ............. (step 2 of 3) Processing tfidf, total=   0.7s\n",
      "[Pipeline] ............. (step 3 of 3) Processing model, total=11.8min\n",
      "[Pipeline] .............. (step 1 of 3) Processing vect, total=  16.3s\n",
      "[Pipeline] ............. (step 2 of 3) Processing tfidf, total=   0.6s\n",
      "[Pipeline] ............. (step 3 of 3) Processing model, total=10.6min\n",
      "[Pipeline] .............. (step 1 of 3) Processing vect, total=  16.6s\n",
      "[Pipeline] ............. (step 2 of 3) Processing tfidf, total=   0.6s\n",
      "[Pipeline] ............. (step 3 of 3) Processing model, total=12.6min\n",
      "[Pipeline] .............. (step 1 of 3) Processing vect, total=  16.2s\n",
      "[Pipeline] ............. (step 2 of 3) Processing tfidf, total=   0.6s\n",
      "[Pipeline] ............. (step 3 of 3) Processing model, total= 2.7min\n",
      "[Pipeline] .............. (step 1 of 3) Processing vect, total=  16.3s\n",
      "[Pipeline] ............. (step 2 of 3) Processing tfidf, total=   0.6s\n",
      "[Pipeline] ............. (step 3 of 3) Processing model, total= 2.2min\n",
      "[Pipeline] .............. (step 1 of 3) Processing vect, total=  16.5s\n",
      "[Pipeline] ............. (step 2 of 3) Processing tfidf, total=   0.6s\n",
      "[Pipeline] ............. (step 3 of 3) Processing model, total= 2.6min\n",
      "[Pipeline] .............. (step 1 of 3) Processing vect, total=  16.5s\n",
      "[Pipeline] ............. (step 2 of 3) Processing tfidf, total=   0.7s\n",
      "[Pipeline] ............. (step 3 of 3) Processing model, total= 2.2min\n",
      "[Pipeline] .............. (step 1 of 3) Processing vect, total=  16.3s\n",
      "[Pipeline] ............. (step 2 of 3) Processing tfidf, total=   0.7s\n",
      "[Pipeline] ............. (step 3 of 3) Processing model, total= 2.4min\n",
      "[Pipeline] .............. (step 1 of 3) Processing vect, total=  16.6s\n",
      "[Pipeline] ............. (step 2 of 3) Processing tfidf, total=   0.6s\n",
      "[Pipeline] ............. (step 3 of 3) Processing model, total=   2.3s\n",
      "[Pipeline] .............. (step 1 of 3) Processing vect, total=  16.5s\n",
      "[Pipeline] ............. (step 2 of 3) Processing tfidf, total=   0.6s\n",
      "[Pipeline] ............. (step 3 of 3) Processing model, total=   2.3s\n",
      "[Pipeline] .............. (step 1 of 3) Processing vect, total=  16.1s\n",
      "[Pipeline] ............. (step 2 of 3) Processing tfidf, total=   0.6s\n",
      "[Pipeline] ............. (step 3 of 3) Processing model, total=   2.3s\n",
      "[Pipeline] .............. (step 1 of 3) Processing vect, total=  16.4s\n",
      "[Pipeline] ............. (step 2 of 3) Processing tfidf, total=   0.6s\n",
      "[Pipeline] ............. (step 3 of 3) Processing model, total=   2.3s\n",
      "[Pipeline] .............. (step 1 of 3) Processing vect, total=  16.3s\n",
      "[Pipeline] ............. (step 2 of 3) Processing tfidf, total=   0.7s\n",
      "[Pipeline] ............. (step 3 of 3) Processing model, total=   2.4s\n",
      "[Pipeline] .............. (step 1 of 3) Processing vect, total=  16.6s\n",
      "[Pipeline] ............. (step 2 of 3) Processing tfidf, total=   0.7s\n",
      "[Pipeline] ............. (step 3 of 3) Processing model, total=  13.1s\n",
      "[Pipeline] .............. (step 1 of 3) Processing vect, total=  17.0s\n",
      "[Pipeline] ............. (step 2 of 3) Processing tfidf, total=   0.7s\n",
      "[Pipeline] ............. (step 3 of 3) Processing model, total=  14.4s\n",
      "[Pipeline] .............. (step 1 of 3) Processing vect, total=  16.8s\n",
      "[Pipeline] ............. (step 2 of 3) Processing tfidf, total=   0.7s\n",
      "[Pipeline] ............. (step 3 of 3) Processing model, total=  15.5s\n",
      "[Pipeline] .............. (step 1 of 3) Processing vect, total=  17.0s\n",
      "[Pipeline] ............. (step 2 of 3) Processing tfidf, total=   0.6s\n",
      "[Pipeline] ............. (step 3 of 3) Processing model, total=  12.8s\n",
      "[Pipeline] .............. (step 1 of 3) Processing vect, total=  16.6s\n",
      "[Pipeline] ............. (step 2 of 3) Processing tfidf, total=   0.6s\n",
      "[Pipeline] ............. (step 3 of 3) Processing model, total=  12.0s\n",
      "[Pipeline] .............. (step 1 of 3) Processing vect, total=  16.6s\n",
      "[Pipeline] ............. (step 2 of 3) Processing tfidf, total=   0.6s\n",
      "[Pipeline] ............. (step 3 of 3) Processing model, total=   4.9s\n",
      "[Pipeline] .............. (step 1 of 3) Processing vect, total=  17.0s\n",
      "[Pipeline] ............. (step 2 of 3) Processing tfidf, total=   0.7s\n",
      "[Pipeline] ............. (step 3 of 3) Processing model, total=   5.2s\n",
      "[Pipeline] .............. (step 1 of 3) Processing vect, total=  16.3s\n",
      "[Pipeline] ............. (step 2 of 3) Processing tfidf, total=   0.6s\n",
      "[Pipeline] ............. (step 3 of 3) Processing model, total=   5.2s\n",
      "[Pipeline] .............. (step 1 of 3) Processing vect, total=  16.6s\n",
      "[Pipeline] ............. (step 2 of 3) Processing tfidf, total=   0.6s\n",
      "[Pipeline] ............. (step 3 of 3) Processing model, total=   4.9s\n",
      "[Pipeline] .............. (step 1 of 3) Processing vect, total=  16.1s\n",
      "[Pipeline] ............. (step 2 of 3) Processing tfidf, total=   0.6s\n",
      "[Pipeline] ............. (step 3 of 3) Processing model, total=   5.1s\n",
      "[Pipeline] .............. (step 1 of 3) Processing vect, total=  16.2s\n",
      "[Pipeline] ............. (step 2 of 3) Processing tfidf, total=   0.6s\n",
      "[Pipeline] ............. (step 3 of 3) Processing model, total=   1.8s\n",
      "[Pipeline] .............. (step 1 of 3) Processing vect, total=  16.1s\n",
      "[Pipeline] ............. (step 2 of 3) Processing tfidf, total=   0.6s\n",
      "[Pipeline] ............. (step 3 of 3) Processing model, total=   1.8s\n",
      "[Pipeline] .............. (step 1 of 3) Processing vect, total=  16.1s\n",
      "[Pipeline] ............. (step 2 of 3) Processing tfidf, total=   0.6s\n",
      "[Pipeline] ............. (step 3 of 3) Processing model, total=   1.8s\n",
      "[Pipeline] .............. (step 1 of 3) Processing vect, total=  16.1s\n",
      "[Pipeline] ............. (step 2 of 3) Processing tfidf, total=   0.6s\n",
      "[Pipeline] ............. (step 3 of 3) Processing model, total=   1.7s\n",
      "[Pipeline] .............. (step 1 of 3) Processing vect, total=  16.1s\n",
      "[Pipeline] ............. (step 2 of 3) Processing tfidf, total=   0.6s\n",
      "[Pipeline] ............. (step 3 of 3) Processing model, total=   1.7s\n",
      "[Pipeline] .............. (step 1 of 3) Processing vect, total=  16.5s\n",
      "[Pipeline] ............. (step 2 of 3) Processing tfidf, total=   0.6s\n",
      "[Pipeline] ............. (step 3 of 3) Processing model, total=   3.2s\n",
      "[Pipeline] .............. (step 1 of 3) Processing vect, total=  16.9s\n",
      "[Pipeline] ............. (step 2 of 3) Processing tfidf, total=   0.6s\n",
      "[Pipeline] ............. (step 3 of 3) Processing model, total=   3.3s\n",
      "[Pipeline] .............. (step 1 of 3) Processing vect, total=  16.4s\n",
      "[Pipeline] ............. (step 2 of 3) Processing tfidf, total=   0.6s\n",
      "[Pipeline] ............. (step 3 of 3) Processing model, total=   3.1s\n",
      "[Pipeline] .............. (step 1 of 3) Processing vect, total=  16.2s\n",
      "[Pipeline] ............. (step 2 of 3) Processing tfidf, total=   0.6s\n",
      "[Pipeline] ............. (step 3 of 3) Processing model, total=   3.2s\n",
      "[Pipeline] .............. (step 1 of 3) Processing vect, total=  16.2s\n"
     ]
    },
    {
     "name": "stdout",
     "output_type": "stream",
     "text": [
      "[Pipeline] ............. (step 2 of 3) Processing tfidf, total=   0.6s\n",
      "[Pipeline] ............. (step 3 of 3) Processing model, total=   3.1s\n",
      "[Pipeline] .............. (step 1 of 3) Processing vect, total=  16.1s\n",
      "[Pipeline] ............. (step 2 of 3) Processing tfidf, total=   0.6s\n",
      "[Pipeline] ............. (step 3 of 3) Processing model, total=   2.5s\n",
      "[Pipeline] .............. (step 1 of 3) Processing vect, total=  16.4s\n",
      "[Pipeline] ............. (step 2 of 3) Processing tfidf, total=   0.6s\n",
      "[Pipeline] ............. (step 3 of 3) Processing model, total=   2.5s\n",
      "[Pipeline] .............. (step 1 of 3) Processing vect, total=  16.1s\n",
      "[Pipeline] ............. (step 2 of 3) Processing tfidf, total=   0.6s\n",
      "[Pipeline] ............. (step 3 of 3) Processing model, total=   2.4s\n",
      "[Pipeline] .............. (step 1 of 3) Processing vect, total=  16.2s\n",
      "[Pipeline] ............. (step 2 of 3) Processing tfidf, total=   0.6s\n",
      "[Pipeline] ............. (step 3 of 3) Processing model, total=   2.4s\n",
      "[Pipeline] .............. (step 1 of 3) Processing vect, total=  16.2s\n",
      "[Pipeline] ............. (step 2 of 3) Processing tfidf, total=   0.6s\n",
      "[Pipeline] ............. (step 3 of 3) Processing model, total=   2.5s\n",
      "[Pipeline] .............. (step 1 of 3) Processing vect, total=  16.2s\n",
      "[Pipeline] ............. (step 2 of 3) Processing tfidf, total=   0.6s\n",
      "[Pipeline] ............. (step 3 of 3) Processing model, total=   3.0s\n",
      "[Pipeline] .............. (step 1 of 3) Processing vect, total=  16.1s\n",
      "[Pipeline] ............. (step 2 of 3) Processing tfidf, total=   0.6s\n",
      "[Pipeline] ............. (step 3 of 3) Processing model, total=   3.1s\n",
      "[Pipeline] .............. (step 1 of 3) Processing vect, total=  16.0s\n",
      "[Pipeline] ............. (step 2 of 3) Processing tfidf, total=   0.6s\n",
      "[Pipeline] ............. (step 3 of 3) Processing model, total=   3.2s\n",
      "[Pipeline] .............. (step 1 of 3) Processing vect, total=  16.2s\n",
      "[Pipeline] ............. (step 2 of 3) Processing tfidf, total=   0.7s\n",
      "[Pipeline] ............. (step 3 of 3) Processing model, total=   3.0s\n",
      "[Pipeline] .............. (step 1 of 3) Processing vect, total=  16.4s\n",
      "[Pipeline] ............. (step 2 of 3) Processing tfidf, total=   0.6s\n",
      "[Pipeline] ............. (step 3 of 3) Processing model, total=   3.3s\n",
      "[Pipeline] .............. (step 1 of 3) Processing vect, total=  16.1s\n",
      "[Pipeline] ............. (step 2 of 3) Processing tfidf, total=   0.6s\n",
      "[Pipeline] ............. (step 3 of 3) Processing model, total=   5.3s\n",
      "[Pipeline] .............. (step 1 of 3) Processing vect, total=  16.3s\n",
      "[Pipeline] ............. (step 2 of 3) Processing tfidf, total=   0.6s\n",
      "[Pipeline] ............. (step 3 of 3) Processing model, total=   5.5s\n",
      "[Pipeline] .............. (step 1 of 3) Processing vect, total=  16.2s\n",
      "[Pipeline] ............. (step 2 of 3) Processing tfidf, total=   0.6s\n",
      "[Pipeline] ............. (step 3 of 3) Processing model, total=   5.9s\n",
      "[Pipeline] .............. (step 1 of 3) Processing vect, total=  16.9s\n",
      "[Pipeline] ............. (step 2 of 3) Processing tfidf, total=   0.6s\n",
      "[Pipeline] ............. (step 3 of 3) Processing model, total=   5.4s\n",
      "[Pipeline] .............. (step 1 of 3) Processing vect, total=  17.0s\n",
      "[Pipeline] ............. (step 2 of 3) Processing tfidf, total=   0.6s\n",
      "[Pipeline] ............. (step 3 of 3) Processing model, total=   5.5s\n",
      "[Pipeline] .............. (step 1 of 3) Processing vect, total=  16.5s\n",
      "[Pipeline] ............. (step 2 of 3) Processing tfidf, total=   0.6s\n",
      "[Pipeline] ............. (step 3 of 3) Processing model, total=   4.4s\n",
      "[Pipeline] .............. (step 1 of 3) Processing vect, total=  16.1s\n",
      "[Pipeline] ............. (step 2 of 3) Processing tfidf, total=   0.6s\n",
      "[Pipeline] ............. (step 3 of 3) Processing model, total=   4.2s\n",
      "[Pipeline] .............. (step 1 of 3) Processing vect, total=  16.6s\n",
      "[Pipeline] ............. (step 2 of 3) Processing tfidf, total=   0.6s\n",
      "[Pipeline] ............. (step 3 of 3) Processing model, total=   4.2s\n",
      "[Pipeline] .............. (step 1 of 3) Processing vect, total=  16.4s\n",
      "[Pipeline] ............. (step 2 of 3) Processing tfidf, total=   0.6s\n",
      "[Pipeline] ............. (step 3 of 3) Processing model, total=   4.1s\n",
      "[Pipeline] .............. (step 1 of 3) Processing vect, total=  16.5s\n",
      "[Pipeline] ............. (step 2 of 3) Processing tfidf, total=   0.6s\n",
      "[Pipeline] ............. (step 3 of 3) Processing model, total=   4.1s\n",
      "[Pipeline] .............. (step 1 of 3) Processing vect, total=  16.3s\n",
      "[Pipeline] ............. (step 2 of 3) Processing tfidf, total=   0.6s\n",
      "[Pipeline] ............. (step 3 of 3) Processing model, total=   2.3s\n",
      "[Pipeline] .............. (step 1 of 3) Processing vect, total=  16.1s\n",
      "[Pipeline] ............. (step 2 of 3) Processing tfidf, total=   0.6s\n",
      "[Pipeline] ............. (step 3 of 3) Processing model, total=   2.2s\n",
      "[Pipeline] .............. (step 1 of 3) Processing vect, total=  16.3s\n",
      "[Pipeline] ............. (step 2 of 3) Processing tfidf, total=   0.6s\n",
      "[Pipeline] ............. (step 3 of 3) Processing model, total=   2.4s\n",
      "[Pipeline] .............. (step 1 of 3) Processing vect, total=  16.3s\n",
      "[Pipeline] ............. (step 2 of 3) Processing tfidf, total=   0.6s\n",
      "[Pipeline] ............. (step 3 of 3) Processing model, total=   2.3s\n",
      "[Pipeline] .............. (step 1 of 3) Processing vect, total=  17.1s\n",
      "[Pipeline] ............. (step 2 of 3) Processing tfidf, total=   0.6s\n",
      "[Pipeline] ............. (step 3 of 3) Processing model, total=   2.3s\n",
      "[Pipeline] .............. (step 1 of 3) Processing vect, total=  16.1s\n",
      "[Pipeline] ............. (step 2 of 3) Processing tfidf, total=   0.6s\n",
      "[Pipeline] ............. (step 3 of 3) Processing model, total=   7.0s\n",
      "[Pipeline] .............. (step 1 of 3) Processing vect, total=  16.0s\n",
      "[Pipeline] ............. (step 2 of 3) Processing tfidf, total=   0.6s\n",
      "[Pipeline] ............. (step 3 of 3) Processing model, total= 1.7min\n",
      "[Pipeline] .............. (step 1 of 3) Processing vect, total=  16.0s\n",
      "[Pipeline] ............. (step 2 of 3) Processing tfidf, total=   0.6s\n",
      "[Pipeline] ............. (step 3 of 3) Processing model, total= 2.5min\n",
      "[Pipeline] .............. (step 1 of 3) Processing vect, total=  16.3s\n",
      "[Pipeline] ............. (step 2 of 3) Processing tfidf, total=   0.6s\n",
      "[Pipeline] ............. (step 3 of 3) Processing model, total=  53.3s\n",
      "[Pipeline] .............. (step 1 of 3) Processing vect, total=  16.1s\n",
      "[Pipeline] ............. (step 2 of 3) Processing tfidf, total=   0.6s\n",
      "[Pipeline] ............. (step 3 of 3) Processing model, total= 4.0min\n",
      "[Pipeline] .............. (step 1 of 3) Processing vect, total=  16.0s\n",
      "[Pipeline] ............. (step 2 of 3) Processing tfidf, total=   0.6s\n",
      "[Pipeline] ............. (step 3 of 3) Processing model, total=  45.1s\n",
      "[Pipeline] .............. (step 1 of 3) Processing vect, total=  16.2s\n",
      "[Pipeline] ............. (step 2 of 3) Processing tfidf, total=   0.6s\n",
      "[Pipeline] ............. (step 3 of 3) Processing model, total=  37.6s\n",
      "[Pipeline] .............. (step 1 of 3) Processing vect, total=  16.1s\n",
      "[Pipeline] ............. (step 2 of 3) Processing tfidf, total=   0.6s\n",
      "[Pipeline] ............. (step 3 of 3) Processing model, total=  31.4s\n",
      "[Pipeline] .............. (step 1 of 3) Processing vect, total=  16.4s\n",
      "[Pipeline] ............. (step 2 of 3) Processing tfidf, total=   0.6s\n",
      "[Pipeline] ............. (step 3 of 3) Processing model, total=  14.5s\n",
      "[Pipeline] .............. (step 1 of 3) Processing vect, total=  16.2s\n",
      "[Pipeline] ............. (step 2 of 3) Processing tfidf, total=   0.6s\n",
      "[Pipeline] ............. (step 3 of 3) Processing model, total=   7.1s\n",
      "[Pipeline] .............. (step 1 of 3) Processing vect, total=  16.2s\n",
      "[Pipeline] ............. (step 2 of 3) Processing tfidf, total=   0.6s\n",
      "[Pipeline] ............. (step 3 of 3) Processing model, total=   2.4s\n",
      "[Pipeline] .............. (step 1 of 3) Processing vect, total=  16.2s\n",
      "[Pipeline] ............. (step 2 of 3) Processing tfidf, total=   0.6s\n",
      "[Pipeline] ............. (step 3 of 3) Processing model, total=   2.4s\n",
      "[Pipeline] .............. (step 1 of 3) Processing vect, total=  16.1s\n",
      "[Pipeline] ............. (step 2 of 3) Processing tfidf, total=   0.6s\n",
      "[Pipeline] ............. (step 3 of 3) Processing model, total=   2.5s\n"
     ]
    },
    {
     "name": "stdout",
     "output_type": "stream",
     "text": [
      "[Pipeline] .............. (step 1 of 3) Processing vect, total=  16.2s\n",
      "[Pipeline] ............. (step 2 of 3) Processing tfidf, total=   0.6s\n",
      "[Pipeline] ............. (step 3 of 3) Processing model, total=   2.6s\n",
      "[Pipeline] .............. (step 1 of 3) Processing vect, total=  16.1s\n",
      "[Pipeline] ............. (step 2 of 3) Processing tfidf, total=   0.6s\n",
      "[Pipeline] ............. (step 3 of 3) Processing model, total=   2.4s\n",
      "[Pipeline] .............. (step 1 of 3) Processing vect, total=  16.1s\n",
      "[Pipeline] ............. (step 2 of 3) Processing tfidf, total=   0.6s\n",
      "[Pipeline] ............. (step 3 of 3) Processing model, total=   5.5s\n",
      "[Pipeline] .............. (step 1 of 3) Processing vect, total=  16.2s\n",
      "[Pipeline] ............. (step 2 of 3) Processing tfidf, total=   0.6s\n",
      "[Pipeline] ............. (step 3 of 3) Processing model, total=   5.8s\n",
      "[Pipeline] .............. (step 1 of 3) Processing vect, total=  16.1s\n",
      "[Pipeline] ............. (step 2 of 3) Processing tfidf, total=   0.6s\n",
      "[Pipeline] ............. (step 3 of 3) Processing model, total=   5.7s\n",
      "[Pipeline] .............. (step 1 of 3) Processing vect, total=  16.1s\n",
      "[Pipeline] ............. (step 2 of 3) Processing tfidf, total=   0.6s\n",
      "[Pipeline] ............. (step 3 of 3) Processing model, total=   6.6s\n",
      "[Pipeline] .............. (step 1 of 3) Processing vect, total=  16.1s\n",
      "[Pipeline] ............. (step 2 of 3) Processing tfidf, total=   0.6s\n",
      "[Pipeline] ............. (step 3 of 3) Processing model, total=   6.4s\n",
      "[Pipeline] .............. (step 1 of 3) Processing vect, total=  16.1s\n",
      "[Pipeline] ............. (step 2 of 3) Processing tfidf, total=   0.6s\n",
      "[Pipeline] ............. (step 3 of 3) Processing model, total=   5.3s\n",
      "[Pipeline] .............. (step 1 of 3) Processing vect, total=  16.2s\n",
      "[Pipeline] ............. (step 2 of 3) Processing tfidf, total=   0.6s\n",
      "[Pipeline] ............. (step 3 of 3) Processing model, total=   3.9s\n",
      "[Pipeline] .............. (step 1 of 3) Processing vect, total=  16.0s\n",
      "[Pipeline] ............. (step 2 of 3) Processing tfidf, total=   0.6s\n",
      "[Pipeline] ............. (step 3 of 3) Processing model, total=   4.2s\n",
      "[Pipeline] .............. (step 1 of 3) Processing vect, total=  16.3s\n",
      "[Pipeline] ............. (step 2 of 3) Processing tfidf, total=   0.6s\n",
      "[Pipeline] ............. (step 3 of 3) Processing model, total=   3.8s\n",
      "[Pipeline] .............. (step 1 of 3) Processing vect, total=  16.0s\n",
      "[Pipeline] ............. (step 2 of 3) Processing tfidf, total=   0.6s\n",
      "[Pipeline] ............. (step 3 of 3) Processing model, total=   3.7s\n",
      "[Pipeline] .............. (step 1 of 3) Processing vect, total=  16.5s\n",
      "[Pipeline] ............. (step 2 of 3) Processing tfidf, total=   0.6s\n",
      "[Pipeline] ............. (step 3 of 3) Processing model, total=   1.8s\n",
      "[Pipeline] .............. (step 1 of 3) Processing vect, total=  15.9s\n",
      "[Pipeline] ............. (step 2 of 3) Processing tfidf, total=   0.6s\n",
      "[Pipeline] ............. (step 3 of 3) Processing model, total=   1.7s\n",
      "[Pipeline] .............. (step 1 of 3) Processing vect, total=  16.4s\n",
      "[Pipeline] ............. (step 2 of 3) Processing tfidf, total=   0.7s\n",
      "[Pipeline] ............. (step 3 of 3) Processing model, total=   1.8s\n",
      "[Pipeline] .............. (step 1 of 3) Processing vect, total=  17.0s\n",
      "[Pipeline] ............. (step 2 of 3) Processing tfidf, total=   0.6s\n",
      "[Pipeline] ............. (step 3 of 3) Processing model, total=   1.7s\n",
      "[Pipeline] .............. (step 1 of 3) Processing vect, total=  15.8s\n",
      "[Pipeline] ............. (step 2 of 3) Processing tfidf, total=   0.6s\n",
      "[Pipeline] ............. (step 3 of 3) Processing model, total=   1.7s\n",
      "[Pipeline] .............. (step 1 of 3) Processing vect, total=  16.2s\n",
      "[Pipeline] ............. (step 2 of 3) Processing tfidf, total=   0.6s\n",
      "[Pipeline] ............. (step 3 of 3) Processing model, total=   2.9s\n",
      "[Pipeline] .............. (step 1 of 3) Processing vect, total=  16.0s\n",
      "[Pipeline] ............. (step 2 of 3) Processing tfidf, total=   0.6s\n",
      "[Pipeline] ............. (step 3 of 3) Processing model, total=   2.9s\n",
      "[Pipeline] .............. (step 1 of 3) Processing vect, total=  16.4s\n",
      "[Pipeline] ............. (step 2 of 3) Processing tfidf, total=   0.6s\n",
      "[Pipeline] ............. (step 3 of 3) Processing model, total=   3.0s\n",
      "[Pipeline] .............. (step 1 of 3) Processing vect, total=  16.1s\n",
      "[Pipeline] ............. (step 2 of 3) Processing tfidf, total=   0.6s\n",
      "[Pipeline] ............. (step 3 of 3) Processing model, total=   2.7s\n",
      "[Pipeline] .............. (step 1 of 3) Processing vect, total=  16.0s\n",
      "[Pipeline] ............. (step 2 of 3) Processing tfidf, total=   0.6s\n",
      "[Pipeline] ............. (step 3 of 3) Processing model, total=   2.8s\n",
      "[Pipeline] .............. (step 1 of 3) Processing vect, total=  16.0s\n",
      "[Pipeline] ............. (step 2 of 3) Processing tfidf, total=   0.6s\n",
      "[Pipeline] ............. (step 3 of 3) Processing model, total=   2.3s\n",
      "[Pipeline] .............. (step 1 of 3) Processing vect, total=  15.9s\n",
      "[Pipeline] ............. (step 2 of 3) Processing tfidf, total=   0.6s\n",
      "[Pipeline] ............. (step 3 of 3) Processing model, total=   2.4s\n",
      "[Pipeline] .............. (step 1 of 3) Processing vect, total=  15.9s\n",
      "[Pipeline] ............. (step 2 of 3) Processing tfidf, total=   0.6s\n",
      "[Pipeline] ............. (step 3 of 3) Processing model, total=   2.3s\n",
      "[Pipeline] .............. (step 1 of 3) Processing vect, total=  16.2s\n",
      "[Pipeline] ............. (step 2 of 3) Processing tfidf, total=   0.7s\n",
      "[Pipeline] ............. (step 3 of 3) Processing model, total=   2.6s\n",
      "[Pipeline] .............. (step 1 of 3) Processing vect, total=  15.9s\n",
      "[Pipeline] ............. (step 2 of 3) Processing tfidf, total=   0.6s\n",
      "[Pipeline] ............. (step 3 of 3) Processing model, total=   2.4s\n",
      "[Pipeline] .............. (step 1 of 3) Processing vect, total=  15.9s\n",
      "[Pipeline] ............. (step 2 of 3) Processing tfidf, total=   0.6s\n",
      "[Pipeline] ............. (step 3 of 3) Processing model, total=   4.4s\n",
      "[Pipeline] .............. (step 1 of 3) Processing vect, total=  15.9s\n",
      "[Pipeline] ............. (step 2 of 3) Processing tfidf, total=   0.6s\n",
      "[Pipeline] ............. (step 3 of 3) Processing model, total=   4.6s\n",
      "[Pipeline] .............. (step 1 of 3) Processing vect, total=  15.9s\n",
      "[Pipeline] ............. (step 2 of 3) Processing tfidf, total=   0.6s\n",
      "[Pipeline] ............. (step 3 of 3) Processing model, total=   4.4s\n",
      "[Pipeline] .............. (step 1 of 3) Processing vect, total=  15.9s\n",
      "[Pipeline] ............. (step 2 of 3) Processing tfidf, total=   0.6s\n",
      "[Pipeline] ............. (step 3 of 3) Processing model, total=   4.6s\n",
      "[Pipeline] .............. (step 1 of 3) Processing vect, total=  15.9s\n",
      "[Pipeline] ............. (step 2 of 3) Processing tfidf, total=   0.6s\n",
      "[Pipeline] ............. (step 3 of 3) Processing model, total=   4.4s\n",
      "[Pipeline] .............. (step 1 of 3) Processing vect, total=  16.0s\n",
      "[Pipeline] ............. (step 2 of 3) Processing tfidf, total=   0.6s\n",
      "[Pipeline] ............. (step 3 of 3) Processing model, total=   8.1s\n",
      "[Pipeline] .............. (step 1 of 3) Processing vect, total=  16.0s\n",
      "[Pipeline] ............. (step 2 of 3) Processing tfidf, total=   0.6s\n",
      "[Pipeline] ............. (step 3 of 3) Processing model, total=   8.3s\n",
      "[Pipeline] .............. (step 1 of 3) Processing vect, total=  16.0s\n",
      "[Pipeline] ............. (step 2 of 3) Processing tfidf, total=   0.6s\n",
      "[Pipeline] ............. (step 3 of 3) Processing model, total=   8.1s\n",
      "[Pipeline] .............. (step 1 of 3) Processing vect, total=  16.0s\n",
      "[Pipeline] ............. (step 2 of 3) Processing tfidf, total=   0.6s\n",
      "[Pipeline] ............. (step 3 of 3) Processing model, total=   8.1s\n",
      "[Pipeline] .............. (step 1 of 3) Processing vect, total=  16.0s\n",
      "[Pipeline] ............. (step 2 of 3) Processing tfidf, total=   0.6s\n",
      "[Pipeline] ............. (step 3 of 3) Processing model, total=   8.3s\n",
      "[Pipeline] .............. (step 1 of 3) Processing vect, total=  16.1s\n",
      "[Pipeline] ............. (step 2 of 3) Processing tfidf, total=   0.6s\n",
      "[Pipeline] ............. (step 3 of 3) Processing model, total=   4.3s\n",
      "[Pipeline] .............. (step 1 of 3) Processing vect, total=  16.0s\n",
      "[Pipeline] ............. (step 2 of 3) Processing tfidf, total=   0.6s\n"
     ]
    },
    {
     "name": "stdout",
     "output_type": "stream",
     "text": [
      "[Pipeline] ............. (step 3 of 3) Processing model, total=   4.2s\n",
      "[Pipeline] .............. (step 1 of 3) Processing vect, total=  16.1s\n",
      "[Pipeline] ............. (step 2 of 3) Processing tfidf, total=   0.6s\n",
      "[Pipeline] ............. (step 3 of 3) Processing model, total=   4.4s\n",
      "[Pipeline] .............. (step 1 of 3) Processing vect, total=  16.2s\n",
      "[Pipeline] ............. (step 2 of 3) Processing tfidf, total=   0.7s\n",
      "[Pipeline] ............. (step 3 of 3) Processing model, total=   4.3s\n",
      "[Pipeline] .............. (step 1 of 3) Processing vect, total=  16.2s\n",
      "[Pipeline] ............. (step 2 of 3) Processing tfidf, total=   0.6s\n",
      "[Pipeline] ............. (step 3 of 3) Processing model, total=   4.3s\n",
      "[Pipeline] .............. (step 1 of 3) Processing vect, total=  16.2s\n",
      "[Pipeline] ............. (step 2 of 3) Processing tfidf, total=   0.6s\n",
      "[Pipeline] ............. (step 3 of 3) Processing model, total=   2.6s\n",
      "[Pipeline] .............. (step 1 of 3) Processing vect, total=  16.5s\n",
      "[Pipeline] ............. (step 2 of 3) Processing tfidf, total=   0.8s\n",
      "[Pipeline] ............. (step 3 of 3) Processing model, total=   2.6s\n",
      "[Pipeline] .............. (step 1 of 3) Processing vect, total=  16.1s\n",
      "[Pipeline] ............. (step 2 of 3) Processing tfidf, total=   0.6s\n",
      "[Pipeline] ............. (step 3 of 3) Processing model, total=   2.7s\n",
      "[Pipeline] .............. (step 1 of 3) Processing vect, total=  16.4s\n",
      "[Pipeline] ............. (step 2 of 3) Processing tfidf, total=   0.7s\n",
      "[Pipeline] ............. (step 3 of 3) Processing model, total=   2.7s\n",
      "[Pipeline] .............. (step 1 of 3) Processing vect, total=  16.4s\n",
      "[Pipeline] ............. (step 2 of 3) Processing tfidf, total=   0.6s\n",
      "[Pipeline] ............. (step 3 of 3) Processing model, total=   2.7s\n",
      "[Pipeline] .............. (step 1 of 3) Processing vect, total=  16.4s\n",
      "[Pipeline] ............. (step 2 of 3) Processing tfidf, total=   0.6s\n",
      "[Pipeline] ............. (step 3 of 3) Processing model, total=   4.5s\n",
      "[Pipeline] .............. (step 1 of 3) Processing vect, total=  16.4s\n",
      "[Pipeline] ............. (step 2 of 3) Processing tfidf, total=   0.6s\n",
      "[Pipeline] ............. (step 3 of 3) Processing model, total=   4.5s\n",
      "[Pipeline] .............. (step 1 of 3) Processing vect, total=  16.2s\n",
      "[Pipeline] ............. (step 2 of 3) Processing tfidf, total=   0.6s\n",
      "[Pipeline] ............. (step 3 of 3) Processing model, total=   4.7s\n",
      "[Pipeline] .............. (step 1 of 3) Processing vect, total=  16.2s\n",
      "[Pipeline] ............. (step 2 of 3) Processing tfidf, total=   0.6s\n",
      "[Pipeline] ............. (step 3 of 3) Processing model, total=   4.5s\n",
      "[Pipeline] .............. (step 1 of 3) Processing vect, total=  16.5s\n",
      "[Pipeline] ............. (step 2 of 3) Processing tfidf, total=   0.6s\n",
      "[Pipeline] ............. (step 3 of 3) Processing model, total=   5.2s\n",
      "[Pipeline] .............. (step 1 of 3) Processing vect, total=  16.5s\n",
      "[Pipeline] ............. (step 2 of 3) Processing tfidf, total=   0.7s\n",
      "[Pipeline] ............. (step 3 of 3) Processing model, total=   3.1s\n",
      "[Pipeline] .............. (step 1 of 3) Processing vect, total=  16.2s\n",
      "[Pipeline] ............. (step 2 of 3) Processing tfidf, total=   0.6s\n",
      "[Pipeline] ............. (step 3 of 3) Processing model, total=   3.0s\n",
      "[Pipeline] .............. (step 1 of 3) Processing vect, total=  16.7s\n",
      "[Pipeline] ............. (step 2 of 3) Processing tfidf, total=   0.7s\n",
      "[Pipeline] ............. (step 3 of 3) Processing model, total=   3.5s\n",
      "[Pipeline] .............. (step 1 of 3) Processing vect, total=  16.6s\n",
      "[Pipeline] ............. (step 2 of 3) Processing tfidf, total=   0.7s\n",
      "[Pipeline] ............. (step 3 of 3) Processing model, total=   3.4s\n",
      "[Pipeline] .............. (step 1 of 3) Processing vect, total=  16.2s\n",
      "[Pipeline] ............. (step 2 of 3) Processing tfidf, total=   0.6s\n",
      "[Pipeline] ............. (step 3 of 3) Processing model, total=   3.2s\n",
      "[Pipeline] .............. (step 1 of 3) Processing vect, total= 2.1min\n",
      "[Pipeline] ............. (step 2 of 3) Processing tfidf, total=   0.8s\n",
      "[Pipeline] ............. (step 3 of 3) Processing model, total=   2.9s\n",
      "[Pipeline] .............. (step 1 of 3) Processing vect, total=  17.5s\n",
      "[Pipeline] ............. (step 2 of 3) Processing tfidf, total=   0.7s\n",
      "[Pipeline] ............. (step 3 of 3) Processing model, total=   2.9s\n",
      "[Pipeline] .............. (step 1 of 3) Processing vect, total=  16.1s\n",
      "[Pipeline] ............. (step 2 of 3) Processing tfidf, total=   0.6s\n",
      "[Pipeline] ............. (step 3 of 3) Processing model, total=   2.7s\n",
      "[Pipeline] .............. (step 1 of 3) Processing vect, total=  16.2s\n",
      "[Pipeline] ............. (step 2 of 3) Processing tfidf, total=   0.6s\n",
      "[Pipeline] ............. (step 3 of 3) Processing model, total=   3.1s\n",
      "[Pipeline] .............. (step 1 of 3) Processing vect, total=  16.3s\n",
      "[Pipeline] ............. (step 2 of 3) Processing tfidf, total=   0.6s\n",
      "[Pipeline] ............. (step 3 of 3) Processing model, total=   2.9s\n",
      "[Pipeline] .............. (step 1 of 3) Processing vect, total=  16.1s\n",
      "[Pipeline] ............. (step 2 of 3) Processing tfidf, total=   0.6s\n",
      "[Pipeline] ............. (step 3 of 3) Processing model, total=   4.5s\n",
      "[Pipeline] .............. (step 1 of 3) Processing vect, total=  16.2s\n",
      "[Pipeline] ............. (step 2 of 3) Processing tfidf, total=   0.6s\n",
      "[Pipeline] ............. (step 3 of 3) Processing model, total=   4.5s\n",
      "[Pipeline] .............. (step 1 of 3) Processing vect, total=  16.2s\n",
      "[Pipeline] ............. (step 2 of 3) Processing tfidf, total=   0.6s\n",
      "[Pipeline] ............. (step 3 of 3) Processing model, total=   4.7s\n",
      "[Pipeline] .............. (step 1 of 3) Processing vect, total=  16.6s\n",
      "[Pipeline] ............. (step 2 of 3) Processing tfidf, total=   0.6s\n",
      "[Pipeline] ............. (step 3 of 3) Processing model, total=   5.5s\n",
      "[Pipeline] .............. (step 1 of 3) Processing vect, total=  16.3s\n",
      "[Pipeline] ............. (step 2 of 3) Processing tfidf, total=   0.6s\n",
      "[Pipeline] ............. (step 3 of 3) Processing model, total=   5.7s\n",
      "[Pipeline] .............. (step 1 of 3) Processing vect, total=  16.2s\n",
      "[Pipeline] ............. (step 2 of 3) Processing tfidf, total=   0.6s\n",
      "[Pipeline] ............. (step 3 of 3) Processing model, total=   3.5s\n",
      "[Pipeline] .............. (step 1 of 3) Processing vect, total=  16.2s\n",
      "[Pipeline] ............. (step 2 of 3) Processing tfidf, total=   0.6s\n",
      "[Pipeline] ............. (step 3 of 3) Processing model, total=   3.3s\n",
      "[Pipeline] .............. (step 1 of 3) Processing vect, total=  16.3s\n",
      "[Pipeline] ............. (step 2 of 3) Processing tfidf, total=   0.6s\n",
      "[Pipeline] ............. (step 3 of 3) Processing model, total=   3.1s\n",
      "[Pipeline] .............. (step 1 of 3) Processing vect, total=  16.2s\n",
      "[Pipeline] ............. (step 2 of 3) Processing tfidf, total=   0.6s\n",
      "[Pipeline] ............. (step 3 of 3) Processing model, total=   3.4s\n",
      "[Pipeline] .............. (step 1 of 3) Processing vect, total=  16.2s\n",
      "[Pipeline] ............. (step 2 of 3) Processing tfidf, total=   0.6s\n",
      "[Pipeline] ............. (step 3 of 3) Processing model, total=   3.5s\n",
      "[Pipeline] .............. (step 1 of 3) Processing vect, total=  16.2s\n",
      "[Pipeline] ............. (step 2 of 3) Processing tfidf, total=   0.6s\n",
      "[Pipeline] ............. (step 3 of 3) Processing model, total=   4.0s\n",
      "[Pipeline] .............. (step 1 of 3) Processing vect, total=  16.2s\n",
      "[Pipeline] ............. (step 2 of 3) Processing tfidf, total=   0.6s\n",
      "[Pipeline] ............. (step 3 of 3) Processing model, total=   3.9s\n",
      "[Pipeline] .............. (step 1 of 3) Processing vect, total=  16.1s\n",
      "[Pipeline] ............. (step 2 of 3) Processing tfidf, total=   0.6s\n",
      "[Pipeline] ............. (step 3 of 3) Processing model, total=   4.1s\n",
      "[Pipeline] .............. (step 1 of 3) Processing vect, total=  16.1s\n",
      "[Pipeline] ............. (step 2 of 3) Processing tfidf, total=   0.6s\n",
      "[Pipeline] ............. (step 3 of 3) Processing model, total=   3.9s\n",
      "[Pipeline] .............. (step 1 of 3) Processing vect, total=  16.1s\n",
      "[Pipeline] ............. (step 2 of 3) Processing tfidf, total=   0.6s\n",
      "[Pipeline] ............. (step 3 of 3) Processing model, total=   4.1s\n",
      "[Pipeline] .............. (step 1 of 3) Processing vect, total=  16.1s\n"
     ]
    },
    {
     "name": "stdout",
     "output_type": "stream",
     "text": [
      "[Pipeline] ............. (step 2 of 3) Processing tfidf, total=   0.6s\n",
      "[Pipeline] ............. (step 3 of 3) Processing model, total=  15.6s\n",
      "[Pipeline] .............. (step 1 of 3) Processing vect, total=  16.2s\n",
      "[Pipeline] ............. (step 2 of 3) Processing tfidf, total=   0.6s\n",
      "[Pipeline] ............. (step 3 of 3) Processing model, total=  16.7s\n",
      "[Pipeline] .............. (step 1 of 3) Processing vect, total=  16.1s\n",
      "[Pipeline] ............. (step 2 of 3) Processing tfidf, total=   0.6s\n",
      "[Pipeline] ............. (step 3 of 3) Processing model, total=  16.7s\n",
      "[Pipeline] .............. (step 1 of 3) Processing vect, total=  16.2s\n",
      "[Pipeline] ............. (step 2 of 3) Processing tfidf, total=   0.6s\n",
      "[Pipeline] ............. (step 3 of 3) Processing model, total=  14.9s\n",
      "[Pipeline] .............. (step 1 of 3) Processing vect, total=  16.1s\n",
      "[Pipeline] ............. (step 2 of 3) Processing tfidf, total=   0.6s\n",
      "[Pipeline] ............. (step 3 of 3) Processing model, total=  16.7s\n",
      "[Pipeline] .............. (step 1 of 3) Processing vect, total=  16.0s\n",
      "[Pipeline] ............. (step 2 of 3) Processing tfidf, total=   0.6s\n",
      "[Pipeline] ............. (step 3 of 3) Processing model, total=   1.8s\n",
      "[Pipeline] .............. (step 1 of 3) Processing vect, total=  16.0s\n",
      "[Pipeline] ............. (step 2 of 3) Processing tfidf, total=   0.6s\n",
      "[Pipeline] ............. (step 3 of 3) Processing model, total=   1.8s\n",
      "[Pipeline] .............. (step 1 of 3) Processing vect, total=  16.1s\n",
      "[Pipeline] ............. (step 2 of 3) Processing tfidf, total=   0.6s\n",
      "[Pipeline] ............. (step 3 of 3) Processing model, total=   1.8s\n",
      "[Pipeline] .............. (step 1 of 3) Processing vect, total=  16.1s\n",
      "[Pipeline] ............. (step 2 of 3) Processing tfidf, total=   0.6s\n",
      "[Pipeline] ............. (step 3 of 3) Processing model, total=   1.8s\n",
      "[Pipeline] .............. (step 1 of 3) Processing vect, total=  16.4s\n",
      "[Pipeline] ............. (step 2 of 3) Processing tfidf, total=   0.6s\n",
      "[Pipeline] ............. (step 3 of 3) Processing model, total=   1.8s\n",
      "[Pipeline] .............. (step 1 of 3) Processing vect, total=  16.0s\n",
      "[Pipeline] ............. (step 2 of 3) Processing tfidf, total=   0.6s\n",
      "[Pipeline] ............. (step 3 of 3) Processing model, total=   5.5s\n",
      "[Pipeline] .............. (step 1 of 3) Processing vect, total=  16.1s\n",
      "[Pipeline] ............. (step 2 of 3) Processing tfidf, total=   0.6s\n",
      "[Pipeline] ............. (step 3 of 3) Processing model, total=   5.6s\n",
      "[Pipeline] .............. (step 1 of 3) Processing vect, total=  16.1s\n",
      "[Pipeline] ............. (step 2 of 3) Processing tfidf, total=   0.6s\n",
      "[Pipeline] ............. (step 3 of 3) Processing model, total=   5.4s\n",
      "[Pipeline] .............. (step 1 of 3) Processing vect, total=  16.0s\n",
      "[Pipeline] ............. (step 2 of 3) Processing tfidf, total=   0.6s\n",
      "[Pipeline] ............. (step 3 of 3) Processing model, total=   5.8s\n",
      "[Pipeline] .............. (step 1 of 3) Processing vect, total=  16.0s\n",
      "[Pipeline] ............. (step 2 of 3) Processing tfidf, total=   0.6s\n",
      "[Pipeline] ............. (step 3 of 3) Processing model, total=   5.6s\n",
      "[Pipeline] .............. (step 1 of 3) Processing vect, total=  16.6s\n",
      "[Pipeline] ............. (step 2 of 3) Processing tfidf, total=   0.7s\n",
      "[Pipeline] ............. (step 3 of 3) Processing model, total=  10.1s\n",
      "[Pipeline] .............. (step 1 of 3) Processing vect, total=  16.2s\n",
      "[Pipeline] ............. (step 2 of 3) Processing tfidf, total=   0.6s\n",
      "[Pipeline] ............. (step 3 of 3) Processing model, total=  10.3s\n",
      "[Pipeline] .............. (step 1 of 3) Processing vect, total=  16.7s\n",
      "[Pipeline] ............. (step 2 of 3) Processing tfidf, total=   0.6s\n",
      "[Pipeline] ............. (step 3 of 3) Processing model, total=   9.9s\n",
      "[Pipeline] .............. (step 1 of 3) Processing vect, total=  15.8s\n",
      "[Pipeline] ............. (step 2 of 3) Processing tfidf, total=   0.7s\n",
      "[Pipeline] ............. (step 3 of 3) Processing model, total=  10.0s\n",
      "[Pipeline] .............. (step 1 of 3) Processing vect, total=  16.2s\n",
      "[Pipeline] ............. (step 2 of 3) Processing tfidf, total=   0.6s\n",
      "[Pipeline] ............. (step 3 of 3) Processing model, total=  10.3s\n",
      "[Pipeline] .............. (step 1 of 3) Processing vect, total=  15.7s\n",
      "[Pipeline] ............. (step 2 of 3) Processing tfidf, total=   0.6s\n",
      "[Pipeline] ............. (step 3 of 3) Processing model, total=   6.3s\n",
      "[Pipeline] .............. (step 1 of 3) Processing vect, total=  16.1s\n",
      "[Pipeline] ............. (step 2 of 3) Processing tfidf, total=   0.6s\n",
      "[Pipeline] ............. (step 3 of 3) Processing model, total=   6.3s\n",
      "[Pipeline] .............. (step 1 of 3) Processing vect, total=  16.1s\n",
      "[Pipeline] ............. (step 2 of 3) Processing tfidf, total=   0.6s\n",
      "[Pipeline] ............. (step 3 of 3) Processing model, total=   6.3s\n",
      "[Pipeline] .............. (step 1 of 3) Processing vect, total=  16.2s\n",
      "[Pipeline] ............. (step 2 of 3) Processing tfidf, total=   0.6s\n",
      "[Pipeline] ............. (step 3 of 3) Processing model, total=   6.3s\n",
      "[Pipeline] .............. (step 1 of 3) Processing vect, total=  16.3s\n",
      "[Pipeline] ............. (step 2 of 3) Processing tfidf, total=   0.6s\n",
      "[Pipeline] ............. (step 3 of 3) Processing model, total=   6.2s\n",
      "[Pipeline] .............. (step 1 of 3) Processing vect, total=  16.0s\n",
      "[Pipeline] ............. (step 2 of 3) Processing tfidf, total=   0.6s\n",
      "[Pipeline] ............. (step 3 of 3) Processing model, total=   3.9s\n",
      "[Pipeline] .............. (step 1 of 3) Processing vect, total=  16.0s\n",
      "[Pipeline] ............. (step 2 of 3) Processing tfidf, total=   0.6s\n",
      "[Pipeline] ............. (step 3 of 3) Processing model, total=   3.9s\n",
      "[Pipeline] .............. (step 1 of 3) Processing vect, total=  16.0s\n",
      "[Pipeline] ............. (step 2 of 3) Processing tfidf, total=   0.6s\n",
      "[Pipeline] ............. (step 3 of 3) Processing model, total=   3.9s\n",
      "[Pipeline] .............. (step 1 of 3) Processing vect, total=  16.1s\n",
      "[Pipeline] ............. (step 2 of 3) Processing tfidf, total=   0.6s\n",
      "[Pipeline] ............. (step 3 of 3) Processing model, total=   4.1s\n",
      "[Pipeline] .............. (step 1 of 3) Processing vect, total=  16.3s\n",
      "[Pipeline] ............. (step 2 of 3) Processing tfidf, total=   0.6s\n",
      "[Pipeline] ............. (step 3 of 3) Processing model, total=   3.9s\n",
      "[Pipeline] .............. (step 1 of 3) Processing vect, total=  16.1s\n",
      "[Pipeline] ............. (step 2 of 3) Processing tfidf, total=   0.6s\n",
      "[Pipeline] ............. (step 3 of 3) Processing model, total=   6.6s\n",
      "[Pipeline] .............. (step 1 of 3) Processing vect, total=  16.3s\n",
      "[Pipeline] ............. (step 2 of 3) Processing tfidf, total=   0.7s\n",
      "[Pipeline] ............. (step 3 of 3) Processing model, total=   6.5s\n",
      "[Pipeline] .............. (step 1 of 3) Processing vect, total=  16.1s\n",
      "[Pipeline] ............. (step 2 of 3) Processing tfidf, total=   0.6s\n",
      "[Pipeline] ............. (step 3 of 3) Processing model, total=   7.0s\n",
      "[Pipeline] .............. (step 1 of 3) Processing vect, total=  16.1s\n",
      "[Pipeline] ............. (step 2 of 3) Processing tfidf, total=   0.6s\n",
      "[Pipeline] ............. (step 3 of 3) Processing model, total=   6.5s\n",
      "[Pipeline] .............. (step 1 of 3) Processing vect, total=  16.1s\n",
      "[Pipeline] ............. (step 2 of 3) Processing tfidf, total=   0.6s\n",
      "[Pipeline] ............. (step 3 of 3) Processing model, total=   6.7s\n",
      "[Pipeline] .............. (step 1 of 3) Processing vect, total=  16.4s\n",
      "[Pipeline] ............. (step 2 of 3) Processing tfidf, total=   0.7s\n",
      "[Pipeline] ............. (step 3 of 3) Processing model, total=   3.7s\n",
      "[Pipeline] .............. (step 1 of 3) Processing vect, total=  16.7s\n",
      "[Pipeline] ............. (step 2 of 3) Processing tfidf, total=   0.6s\n",
      "[Pipeline] ............. (step 3 of 3) Processing model, total=   3.3s\n",
      "[Pipeline] .............. (step 1 of 3) Processing vect, total=  16.3s\n",
      "[Pipeline] ............. (step 2 of 3) Processing tfidf, total=   0.6s\n",
      "[Pipeline] ............. (step 3 of 3) Processing model, total=   3.5s\n",
      "[Pipeline] .............. (step 1 of 3) Processing vect, total=  16.0s\n",
      "[Pipeline] ............. (step 2 of 3) Processing tfidf, total=   0.6s\n",
      "[Pipeline] ............. (step 3 of 3) Processing model, total=   3.2s\n"
     ]
    },
    {
     "name": "stdout",
     "output_type": "stream",
     "text": [
      "[Pipeline] .............. (step 1 of 3) Processing vect, total=  16.4s\n",
      "[Pipeline] ............. (step 2 of 3) Processing tfidf, total=   0.6s\n",
      "[Pipeline] ............. (step 3 of 3) Processing model, total=   3.5s\n",
      "[Pipeline] .............. (step 1 of 3) Processing vect, total=  16.3s\n",
      "[Pipeline] ............. (step 2 of 3) Processing tfidf, total=   0.6s\n",
      "[Pipeline] ............. (step 3 of 3) Processing model, total=   3.9s\n",
      "[Pipeline] .............. (step 1 of 3) Processing vect, total=  16.3s\n",
      "[Pipeline] ............. (step 2 of 3) Processing tfidf, total=   0.6s\n",
      "[Pipeline] ............. (step 3 of 3) Processing model, total=   4.0s\n",
      "[Pipeline] .............. (step 1 of 3) Processing vect, total=  16.7s\n",
      "[Pipeline] ............. (step 2 of 3) Processing tfidf, total=   0.6s\n",
      "[Pipeline] ............. (step 3 of 3) Processing model, total=   3.8s\n",
      "[Pipeline] .............. (step 1 of 3) Processing vect, total=  16.1s\n",
      "[Pipeline] ............. (step 2 of 3) Processing tfidf, total=   0.6s\n",
      "[Pipeline] ............. (step 3 of 3) Processing model, total=   4.1s\n",
      "[Pipeline] .............. (step 1 of 3) Processing vect, total=  16.2s\n",
      "[Pipeline] ............. (step 2 of 3) Processing tfidf, total=   0.6s\n",
      "[Pipeline] ............. (step 3 of 3) Processing model, total=   4.0s\n",
      "[Pipeline] .............. (step 1 of 3) Processing vect, total=  16.1s\n",
      "[Pipeline] ............. (step 2 of 3) Processing tfidf, total=   0.6s\n",
      "[Pipeline] ............. (step 3 of 3) Processing model, total=   6.7s\n",
      "[Pipeline] .............. (step 1 of 3) Processing vect, total=  16.1s\n",
      "[Pipeline] ............. (step 2 of 3) Processing tfidf, total=   0.6s\n",
      "[Pipeline] ............. (step 3 of 3) Processing model, total=   6.6s\n",
      "[Pipeline] .............. (step 1 of 3) Processing vect, total=  15.9s\n",
      "[Pipeline] ............. (step 2 of 3) Processing tfidf, total=   0.6s\n",
      "[Pipeline] ............. (step 3 of 3) Processing model, total=   6.7s\n",
      "[Pipeline] .............. (step 1 of 3) Processing vect, total=  16.0s\n",
      "[Pipeline] ............. (step 2 of 3) Processing tfidf, total=   0.6s\n",
      "[Pipeline] ............. (step 3 of 3) Processing model, total=   6.6s\n",
      "[Pipeline] .............. (step 1 of 3) Processing vect, total=  16.4s\n",
      "[Pipeline] ............. (step 2 of 3) Processing tfidf, total=   0.7s\n",
      "[Pipeline] ............. (step 3 of 3) Processing model, total=   6.7s\n",
      "[Pipeline] .............. (step 1 of 3) Processing vect, total=  17.3s\n",
      "[Pipeline] ............. (step 2 of 3) Processing tfidf, total=   0.6s\n",
      "[Pipeline] ............. (step 3 of 3) Processing model, total=   3.6s\n",
      "[Pipeline] .............. (step 1 of 3) Processing vect, total=  17.1s\n",
      "[Pipeline] ............. (step 2 of 3) Processing tfidf, total=   0.6s\n",
      "[Pipeline] ............. (step 3 of 3) Processing model, total=   3.4s\n",
      "[Pipeline] .............. (step 1 of 3) Processing vect, total=  17.6s\n",
      "[Pipeline] ............. (step 2 of 3) Processing tfidf, total=   0.7s\n",
      "[Pipeline] ............. (step 3 of 3) Processing model, total=   3.5s\n",
      "[Pipeline] .............. (step 1 of 3) Processing vect, total=  17.0s\n",
      "[Pipeline] ............. (step 2 of 3) Processing tfidf, total=   0.7s\n",
      "[Pipeline] ............. (step 3 of 3) Processing model, total=   3.5s\n",
      "[Pipeline] .............. (step 1 of 3) Processing vect, total=  16.3s\n",
      "[Pipeline] ............. (step 2 of 3) Processing tfidf, total=   0.6s\n",
      "[Pipeline] ............. (step 3 of 3) Processing model, total=   3.5s\n",
      "[Pipeline] .............. (step 1 of 3) Processing vect, total=  20.6s\n",
      "[Pipeline] ............. (step 2 of 3) Processing tfidf, total=   0.8s\n",
      "[Pipeline] ............. (step 3 of 3) Processing model, total=   2.9s\n"
     ]
    },
    {
     "data": {
      "text/plain": [
       "GridSearchCV(estimator=Pipeline(steps=[('vect',\n",
       "                                        CountVectorizer(min_df=5,\n",
       "                                                        ngram_range=(1, 2))),\n",
       "                                       ('tfidf', TfidfTransformer()),\n",
       "                                       ('model',\n",
       "                                        SGDClassifier(class_weight='balanced'))],\n",
       "                                verbose=True),\n",
       "             param_grid={'model__alpha': [0.0001, 0.001, 0.01, 0.1],\n",
       "                         'model__loss': ['hinge', 'log', 'squared_hinge',\n",
       "                                         'modified_huber'],\n",
       "                         'model__penalty': ['l2', 'l1', 'none']})"
      ]
     },
     "execution_count": 154,
     "metadata": {},
     "output_type": "execute_result"
    }
   ],
   "source": [
    "grid.fit(X_train,y_train)"
   ]
  },
  {
   "cell_type": "code",
   "execution_count": 155,
   "metadata": {},
   "outputs": [
    {
     "data": {
      "text/plain": [
       "Pipeline(steps=[('vect', CountVectorizer(min_df=5, ngram_range=(1, 2))),\n",
       "                ('tfidf', TfidfTransformer()),\n",
       "                ('model',\n",
       "                 SGDClassifier(class_weight='balanced',\n",
       "                               loss='modified_huber'))],\n",
       "         verbose=True)"
      ]
     },
     "execution_count": 155,
     "metadata": {},
     "output_type": "execute_result"
    }
   ],
   "source": [
    "grid.best_score_\n",
    "grid.best_estimator_"
   ]
  },
  {
   "cell_type": "code",
   "execution_count": null,
   "metadata": {},
   "outputs": [],
   "source": []
  }
 ],
 "metadata": {
  "kernelspec": {
   "display_name": "Python 3",
   "language": "python",
   "name": "python3"
  },
  "language_info": {
   "codemirror_mode": {
    "name": "ipython",
    "version": 3
   },
   "file_extension": ".py",
   "mimetype": "text/x-python",
   "name": "python",
   "nbconvert_exporter": "python",
   "pygments_lexer": "ipython3",
   "version": "3.6.12"
  }
 },
 "nbformat": 4,
 "nbformat_minor": 4
}
