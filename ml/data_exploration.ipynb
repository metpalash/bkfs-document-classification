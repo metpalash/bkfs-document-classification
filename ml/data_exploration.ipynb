{
 "cells": [
  {
   "cell_type": "markdown",
   "metadata": {},
   "source": [
    "# Data Profiling¶\n"
   ]
  },
  {
   "cell_type": "code",
   "execution_count": 1,
   "metadata": {},
   "outputs": [],
   "source": [
    "#Loading all the modules\n",
    "import pandas as pd\n",
    "import matplotlib.pyplot as plt\n",
    "import seaborn as sns\n",
    "import numpy as np\n",
    "from sklearn.feature_extraction.text import CountVectorizer, TfidfTransformer, TfidfVectorizer\n",
    "from data_preparation import *"
   ]
  },
  {
   "cell_type": "code",
   "execution_count": 2,
   "metadata": {},
   "outputs": [],
   "source": [
    "#Read the data, the file doesnt have header so we will assign the column names\n",
    "df = pd.read_csv('./data/shuffled-full-set-hashed.csv',header=None,names=['type','text'])"
   ]
  },
  {
   "cell_type": "code",
   "execution_count": 3,
   "metadata": {},
   "outputs": [
    {
     "data": {
      "text/html": [
       "<div>\n",
       "<style scoped>\n",
       "    .dataframe tbody tr th:only-of-type {\n",
       "        vertical-align: middle;\n",
       "    }\n",
       "\n",
       "    .dataframe tbody tr th {\n",
       "        vertical-align: top;\n",
       "    }\n",
       "\n",
       "    .dataframe thead th {\n",
       "        text-align: right;\n",
       "    }\n",
       "</style>\n",
       "<table border=\"1\" class=\"dataframe\">\n",
       "  <thead>\n",
       "    <tr style=\"text-align: right;\">\n",
       "      <th></th>\n",
       "      <th>type</th>\n",
       "      <th>text</th>\n",
       "    </tr>\n",
       "  </thead>\n",
       "  <tbody>\n",
       "    <tr>\n",
       "      <th>0</th>\n",
       "      <td>DELETION OF INTEREST</td>\n",
       "      <td>e04a09c87692 d6b72e591b91 5d066f0246f1 ed41171...</td>\n",
       "    </tr>\n",
       "    <tr>\n",
       "      <th>1</th>\n",
       "      <td>RETURNED CHECK</td>\n",
       "      <td>a3b334c6eefd be95012ebf2b 41d67080e078 ff1c26e...</td>\n",
       "    </tr>\n",
       "    <tr>\n",
       "      <th>2</th>\n",
       "      <td>BILL</td>\n",
       "      <td>586242498a88 9ccf259ca087 54709b24b45f 6bf9c0c...</td>\n",
       "    </tr>\n",
       "    <tr>\n",
       "      <th>3</th>\n",
       "      <td>BILL</td>\n",
       "      <td>cd50e861f48b 6ca2dd348663 d38820625542 f077614...</td>\n",
       "    </tr>\n",
       "    <tr>\n",
       "      <th>4</th>\n",
       "      <td>BILL</td>\n",
       "      <td>9db5536263d8 1c303d15eb65 3f89b4673455 b73e657...</td>\n",
       "    </tr>\n",
       "    <tr>\n",
       "      <th>5</th>\n",
       "      <td>POLICY CHANGE</td>\n",
       "      <td>10e45001c2f2 6a01047db3ab 6a8e3499dab9 97b6014...</td>\n",
       "    </tr>\n",
       "    <tr>\n",
       "      <th>6</th>\n",
       "      <td>POLICY CHANGE</td>\n",
       "      <td>4e5019f629a9 54fb196d55ce 0cf4049f1c7c ef4ea27...</td>\n",
       "    </tr>\n",
       "    <tr>\n",
       "      <th>7</th>\n",
       "      <td>BILL</td>\n",
       "      <td>ad4440ac97a5 8e93a2273a93 c913f5129fe2 bfb030c...</td>\n",
       "    </tr>\n",
       "    <tr>\n",
       "      <th>8</th>\n",
       "      <td>CANCELLATION NOTICE</td>\n",
       "      <td>25c57acdf805 b7a0f56f6ce8 cf4fc632eed2 67f9c02...</td>\n",
       "    </tr>\n",
       "    <tr>\n",
       "      <th>9</th>\n",
       "      <td>BILL</td>\n",
       "      <td>48d657cd9861 fee60001e67a 4ce4bfb42e22 de9738e...</td>\n",
       "    </tr>\n",
       "  </tbody>\n",
       "</table>\n",
       "</div>"
      ],
      "text/plain": [
       "                   type                                               text\n",
       "0  DELETION OF INTEREST  e04a09c87692 d6b72e591b91 5d066f0246f1 ed41171...\n",
       "1        RETURNED CHECK  a3b334c6eefd be95012ebf2b 41d67080e078 ff1c26e...\n",
       "2                  BILL  586242498a88 9ccf259ca087 54709b24b45f 6bf9c0c...\n",
       "3                  BILL  cd50e861f48b 6ca2dd348663 d38820625542 f077614...\n",
       "4                  BILL  9db5536263d8 1c303d15eb65 3f89b4673455 b73e657...\n",
       "5         POLICY CHANGE  10e45001c2f2 6a01047db3ab 6a8e3499dab9 97b6014...\n",
       "6         POLICY CHANGE  4e5019f629a9 54fb196d55ce 0cf4049f1c7c ef4ea27...\n",
       "7                  BILL  ad4440ac97a5 8e93a2273a93 c913f5129fe2 bfb030c...\n",
       "8   CANCELLATION NOTICE  25c57acdf805 b7a0f56f6ce8 cf4fc632eed2 67f9c02...\n",
       "9                  BILL  48d657cd9861 fee60001e67a 4ce4bfb42e22 de9738e..."
      ]
     },
     "execution_count": 3,
     "metadata": {},
     "output_type": "execute_result"
    }
   ],
   "source": [
    "df.head(10)"
   ]
  },
  {
   "cell_type": "code",
   "execution_count": 4,
   "metadata": {},
   "outputs": [
    {
     "data": {
      "text/html": [
       "<div>\n",
       "<style scoped>\n",
       "    .dataframe tbody tr th:only-of-type {\n",
       "        vertical-align: middle;\n",
       "    }\n",
       "\n",
       "    .dataframe tbody tr th {\n",
       "        vertical-align: top;\n",
       "    }\n",
       "\n",
       "    .dataframe thead th {\n",
       "        text-align: right;\n",
       "    }\n",
       "</style>\n",
       "<table border=\"1\" class=\"dataframe\">\n",
       "  <thead>\n",
       "    <tr style=\"text-align: right;\">\n",
       "      <th></th>\n",
       "      <th>type</th>\n",
       "      <th>text</th>\n",
       "    </tr>\n",
       "  </thead>\n",
       "  <tbody>\n",
       "    <tr>\n",
       "      <th>count</th>\n",
       "      <td>62204</td>\n",
       "      <td>62159</td>\n",
       "    </tr>\n",
       "    <tr>\n",
       "      <th>unique</th>\n",
       "      <td>14</td>\n",
       "      <td>60176</td>\n",
       "    </tr>\n",
       "    <tr>\n",
       "      <th>top</th>\n",
       "      <td>BILL</td>\n",
       "      <td>bf064c332aa1 079935e500e5 1a4dd36c6de0 7efa289...</td>\n",
       "    </tr>\n",
       "    <tr>\n",
       "      <th>freq</th>\n",
       "      <td>18968</td>\n",
       "      <td>11</td>\n",
       "    </tr>\n",
       "  </tbody>\n",
       "</table>\n",
       "</div>"
      ],
      "text/plain": [
       "         type                                               text\n",
       "count   62204                                              62159\n",
       "unique     14                                              60176\n",
       "top      BILL  bf064c332aa1 079935e500e5 1a4dd36c6de0 7efa289...\n",
       "freq    18968                                                 11"
      ]
     },
     "execution_count": 4,
     "metadata": {},
     "output_type": "execute_result"
    }
   ],
   "source": [
    "#Check the data\n",
    "df.describe()"
   ]
  },
  {
   "cell_type": "markdown",
   "metadata": {},
   "source": [
    "# Basic Data Cleaning"
   ]
  },
  {
   "cell_type": "code",
   "execution_count": 5,
   "metadata": {},
   "outputs": [
    {
     "data": {
      "text/plain": [
       "type     0\n",
       "text    45\n",
       "dtype: int64"
      ]
     },
     "execution_count": 5,
     "metadata": {},
     "output_type": "execute_result"
    }
   ],
   "source": [
    "#Look for Missing values\n",
    "df.isna().sum()"
   ]
  },
  {
   "cell_type": "code",
   "execution_count": 6,
   "metadata": {},
   "outputs": [],
   "source": [
    "# Only 45 rows out of 62204 rows have text null\n",
    "# We can easily drop these rows\n",
    "df.dropna(inplace=True)"
   ]
  },
  {
   "cell_type": "code",
   "execution_count": 7,
   "metadata": {},
   "outputs": [
    {
     "data": {
      "text/html": [
       "<div>\n",
       "<style scoped>\n",
       "    .dataframe tbody tr th:only-of-type {\n",
       "        vertical-align: middle;\n",
       "    }\n",
       "\n",
       "    .dataframe tbody tr th {\n",
       "        vertical-align: top;\n",
       "    }\n",
       "\n",
       "    .dataframe thead th {\n",
       "        text-align: right;\n",
       "    }\n",
       "</style>\n",
       "<table border=\"1\" class=\"dataframe\">\n",
       "  <thead>\n",
       "    <tr style=\"text-align: right;\">\n",
       "      <th></th>\n",
       "      <th>type</th>\n",
       "      <th>text</th>\n",
       "    </tr>\n",
       "  </thead>\n",
       "  <tbody>\n",
       "    <tr>\n",
       "      <th>count</th>\n",
       "      <td>62159</td>\n",
       "      <td>62159</td>\n",
       "    </tr>\n",
       "    <tr>\n",
       "      <th>unique</th>\n",
       "      <td>14</td>\n",
       "      <td>60176</td>\n",
       "    </tr>\n",
       "    <tr>\n",
       "      <th>top</th>\n",
       "      <td>BILL</td>\n",
       "      <td>bf064c332aa1 079935e500e5 1a4dd36c6de0 7efa289...</td>\n",
       "    </tr>\n",
       "    <tr>\n",
       "      <th>freq</th>\n",
       "      <td>18959</td>\n",
       "      <td>11</td>\n",
       "    </tr>\n",
       "  </tbody>\n",
       "</table>\n",
       "</div>"
      ],
      "text/plain": [
       "         type                                               text\n",
       "count   62159                                              62159\n",
       "unique     14                                              60176\n",
       "top      BILL  bf064c332aa1 079935e500e5 1a4dd36c6de0 7efa289...\n",
       "freq    18959                                                 11"
      ]
     },
     "execution_count": 7,
     "metadata": {},
     "output_type": "execute_result"
    }
   ],
   "source": [
    "df.describe()"
   ]
  },
  {
   "cell_type": "code",
   "execution_count": 8,
   "metadata": {},
   "outputs": [
    {
     "data": {
      "text/plain": [
       "1617"
      ]
     },
     "execution_count": 8,
     "metadata": {},
     "output_type": "execute_result"
    }
   ],
   "source": [
    "#Lets Look if there are any duplicates in the data\n",
    "sum(df.duplicated())"
   ]
  },
  {
   "cell_type": "code",
   "execution_count": 9,
   "metadata": {},
   "outputs": [],
   "source": [
    "# There are 1617 duplicate rows in the data, they are not adding any value, lets drop it\n",
    "df = df.drop_duplicates()"
   ]
  },
  {
   "cell_type": "code",
   "execution_count": 10,
   "metadata": {},
   "outputs": [
    {
     "data": {
      "text/html": [
       "<div>\n",
       "<style scoped>\n",
       "    .dataframe tbody tr th:only-of-type {\n",
       "        vertical-align: middle;\n",
       "    }\n",
       "\n",
       "    .dataframe tbody tr th {\n",
       "        vertical-align: top;\n",
       "    }\n",
       "\n",
       "    .dataframe thead th {\n",
       "        text-align: right;\n",
       "    }\n",
       "</style>\n",
       "<table border=\"1\" class=\"dataframe\">\n",
       "  <thead>\n",
       "    <tr style=\"text-align: right;\">\n",
       "      <th></th>\n",
       "      <th>type</th>\n",
       "      <th>text</th>\n",
       "    </tr>\n",
       "  </thead>\n",
       "  <tbody>\n",
       "    <tr>\n",
       "      <th>count</th>\n",
       "      <td>60542</td>\n",
       "      <td>60542</td>\n",
       "    </tr>\n",
       "    <tr>\n",
       "      <th>unique</th>\n",
       "      <td>14</td>\n",
       "      <td>60176</td>\n",
       "    </tr>\n",
       "    <tr>\n",
       "      <th>top</th>\n",
       "      <td>BILL</td>\n",
       "      <td>84884d80641d</td>\n",
       "    </tr>\n",
       "    <tr>\n",
       "      <th>freq</th>\n",
       "      <td>18449</td>\n",
       "      <td>3</td>\n",
       "    </tr>\n",
       "  </tbody>\n",
       "</table>\n",
       "</div>"
      ],
      "text/plain": [
       "         type          text\n",
       "count   60542         60542\n",
       "unique     14         60176\n",
       "top      BILL  84884d80641d\n",
       "freq    18449             3"
      ]
     },
     "execution_count": 10,
     "metadata": {},
     "output_type": "execute_result"
    }
   ],
   "source": [
    "df.describe()"
   ]
  },
  {
   "cell_type": "markdown",
   "metadata": {},
   "source": [
    "# Data Distribution"
   ]
  },
  {
   "cell_type": "code",
   "execution_count": 11,
   "metadata": {},
   "outputs": [
    {
     "data": {
      "text/plain": [
       "BILL                       18449\n",
       "POLICY CHANGE              10229\n",
       "CANCELLATION NOTICE         9571\n",
       "BINDER                      8590\n",
       "DELETION OF INTEREST        4779\n",
       "REINSTATEMENT NOTICE        4295\n",
       "DECLARATION                  966\n",
       "CHANGE ENDORSEMENT           866\n",
       "RETURNED CHECK               730\n",
       "EXPIRATION NOTICE            719\n",
       "NON-RENEWAL NOTICE           618\n",
       "BILL BINDER                  277\n",
       "INTENT TO CANCEL NOTICE      227\n",
       "APPLICATION                  226\n",
       "Name: type, dtype: int64"
      ]
     },
     "execution_count": 11,
     "metadata": {},
     "output_type": "execute_result"
    }
   ],
   "source": [
    "# Lets look at the document category and count\n",
    "df.type.value_counts()"
   ]
  },
  {
   "cell_type": "code",
   "execution_count": 12,
   "metadata": {},
   "outputs": [
    {
     "data": {
      "text/plain": [
       "<AxesSubplot:xlabel='type', ylabel='count'>"
      ]
     },
     "execution_count": 12,
     "metadata": {},
     "output_type": "execute_result"
    },
    {
     "data": {
      "image/png": "[encoded data removed]",
      "text/plain": [
       "<Figure size 2160x720 with 1 Axes>"
      ]
     },
     "metadata": {
      "needs_background": "light"
     },
     "output_type": "display_data"
    }
   ],
   "source": [
    "plt.figure(figsize=[30,10])\n",
    "sns.countplot(x=df.type)"
   ]
  },
  {
   "cell_type": "markdown",
   "metadata": {},
   "source": [
    "There seems to be lot of imbalance between the different categories, we might need to resort to either downsampling the majority class or upsampling the minority class"
   ]
  },
  {
   "cell_type": "markdown",
   "metadata": {},
   "source": [
    "# Lexical Analysis\n",
    "Lets analyze the vocabulary richness of our data. \n",
    "If we just analyze the lexical richness of the text_description data, \n",
    "it will still give us much idea about how rich our data is in terms of unique vocabulary words:"
   ]
  },
  {
   "cell_type": "code",
   "execution_count": 13,
   "metadata": {},
   "outputs": [
    {
     "name": "stdout",
     "output_type": "stream",
     "text": [
      "total unique words in the dataset:  1037934\n",
      "total words in the dataset:  20250777\n"
     ]
    }
   ],
   "source": [
    "#Lets See how many unique words we have in our dataset\n",
    "all_words = [w.split() for w in df.text.values]\n",
    "total_flat_words = [ewords for words in all_words for ewords in words]\n",
    "\n",
    "print('total unique words in the dataset: ',len(set(total_flat_words)))\n",
    "print('total words in the dataset: ',len(total_flat_words))"
   ]
  },
  {
   "cell_type": "code",
   "execution_count": 14,
   "metadata": {},
   "outputs": [],
   "source": [
    "#Lets look at distribution of words in document across various document types\n",
    "#Genrate a new feature which is the total len of document\n",
    "df['word_count'] = df['text'].str.split().str.len()"
   ]
  },
  {
   "cell_type": "code",
   "execution_count": 15,
   "metadata": {},
   "outputs": [
    {
     "data": {
      "text/html": [
       "<div>\n",
       "<style scoped>\n",
       "    .dataframe tbody tr th:only-of-type {\n",
       "        vertical-align: middle;\n",
       "    }\n",
       "\n",
       "    .dataframe tbody tr th {\n",
       "        vertical-align: top;\n",
       "    }\n",
       "\n",
       "    .dataframe thead th {\n",
       "        text-align: right;\n",
       "    }\n",
       "</style>\n",
       "<table border=\"1\" class=\"dataframe\">\n",
       "  <thead>\n",
       "    <tr style=\"text-align: right;\">\n",
       "      <th></th>\n",
       "      <th>type</th>\n",
       "      <th>text</th>\n",
       "      <th>word_count</th>\n",
       "    </tr>\n",
       "  </thead>\n",
       "  <tbody>\n",
       "    <tr>\n",
       "      <th>0</th>\n",
       "      <td>DELETION OF INTEREST</td>\n",
       "      <td>e04a09c87692 d6b72e591b91 5d066f0246f1 ed41171...</td>\n",
       "      <td>465</td>\n",
       "    </tr>\n",
       "    <tr>\n",
       "      <th>1</th>\n",
       "      <td>RETURNED CHECK</td>\n",
       "      <td>a3b334c6eefd be95012ebf2b 41d67080e078 ff1c26e...</td>\n",
       "      <td>403</td>\n",
       "    </tr>\n",
       "    <tr>\n",
       "      <th>2</th>\n",
       "      <td>BILL</td>\n",
       "      <td>586242498a88 9ccf259ca087 54709b24b45f 6bf9c0c...</td>\n",
       "      <td>185</td>\n",
       "    </tr>\n",
       "    <tr>\n",
       "      <th>3</th>\n",
       "      <td>BILL</td>\n",
       "      <td>cd50e861f48b 6ca2dd348663 d38820625542 f077614...</td>\n",
       "      <td>337</td>\n",
       "    </tr>\n",
       "    <tr>\n",
       "      <th>4</th>\n",
       "      <td>BILL</td>\n",
       "      <td>9db5536263d8 1c303d15eb65 3f89b4673455 b73e657...</td>\n",
       "      <td>546</td>\n",
       "    </tr>\n",
       "  </tbody>\n",
       "</table>\n",
       "</div>"
      ],
      "text/plain": [
       "                   type                                               text  \\\n",
       "0  DELETION OF INTEREST  e04a09c87692 d6b72e591b91 5d066f0246f1 ed41171...   \n",
       "1        RETURNED CHECK  a3b334c6eefd be95012ebf2b 41d67080e078 ff1c26e...   \n",
       "2                  BILL  586242498a88 9ccf259ca087 54709b24b45f 6bf9c0c...   \n",
       "3                  BILL  cd50e861f48b 6ca2dd348663 d38820625542 f077614...   \n",
       "4                  BILL  9db5536263d8 1c303d15eb65 3f89b4673455 b73e657...   \n",
       "\n",
       "   word_count  \n",
       "0         465  \n",
       "1         403  \n",
       "2         185  \n",
       "3         337  \n",
       "4         546  "
      ]
     },
     "execution_count": 15,
     "metadata": {},
     "output_type": "execute_result"
    }
   ],
   "source": [
    "df.head()"
   ]
  },
  {
   "cell_type": "code",
   "execution_count": 16,
   "metadata": {},
   "outputs": [
    {
     "data": {
      "text/html": [
       "<div>\n",
       "<style scoped>\n",
       "    .dataframe tbody tr th:only-of-type {\n",
       "        vertical-align: middle;\n",
       "    }\n",
       "\n",
       "    .dataframe tbody tr th {\n",
       "        vertical-align: top;\n",
       "    }\n",
       "\n",
       "    .dataframe thead th {\n",
       "        text-align: right;\n",
       "    }\n",
       "</style>\n",
       "<table border=\"1\" class=\"dataframe\">\n",
       "  <thead>\n",
       "    <tr style=\"text-align: right;\">\n",
       "      <th></th>\n",
       "      <th>count</th>\n",
       "      <th>min</th>\n",
       "      <th>mean</th>\n",
       "      <th>median</th>\n",
       "      <th>max</th>\n",
       "      <th>std</th>\n",
       "      <th>sum</th>\n",
       "    </tr>\n",
       "    <tr>\n",
       "      <th>type</th>\n",
       "      <th></th>\n",
       "      <th></th>\n",
       "      <th></th>\n",
       "      <th></th>\n",
       "      <th></th>\n",
       "      <th></th>\n",
       "      <th></th>\n",
       "    </tr>\n",
       "  </thead>\n",
       "  <tbody>\n",
       "    <tr>\n",
       "      <th>APPLICATION</th>\n",
       "      <td>226</td>\n",
       "      <td>34</td>\n",
       "      <td>884.026549</td>\n",
       "      <td>766.5</td>\n",
       "      <td>3465</td>\n",
       "      <td>661.126257</td>\n",
       "      <td>199790</td>\n",
       "    </tr>\n",
       "    <tr>\n",
       "      <th>BILL</th>\n",
       "      <td>18449</td>\n",
       "      <td>1</td>\n",
       "      <td>395.256545</td>\n",
       "      <td>330.0</td>\n",
       "      <td>7030</td>\n",
       "      <td>249.893216</td>\n",
       "      <td>7292088</td>\n",
       "    </tr>\n",
       "    <tr>\n",
       "      <th>BILL BINDER</th>\n",
       "      <td>277</td>\n",
       "      <td>5</td>\n",
       "      <td>418.606498</td>\n",
       "      <td>317.0</td>\n",
       "      <td>3360</td>\n",
       "      <td>371.339565</td>\n",
       "      <td>115954</td>\n",
       "    </tr>\n",
       "    <tr>\n",
       "      <th>BINDER</th>\n",
       "      <td>8590</td>\n",
       "      <td>1</td>\n",
       "      <td>483.029453</td>\n",
       "      <td>358.0</td>\n",
       "      <td>7426</td>\n",
       "      <td>439.725545</td>\n",
       "      <td>4149223</td>\n",
       "    </tr>\n",
       "    <tr>\n",
       "      <th>CANCELLATION NOTICE</th>\n",
       "      <td>9571</td>\n",
       "      <td>7</td>\n",
       "      <td>231.965312</td>\n",
       "      <td>179.0</td>\n",
       "      <td>4107</td>\n",
       "      <td>171.399429</td>\n",
       "      <td>2220140</td>\n",
       "    </tr>\n",
       "    <tr>\n",
       "      <th>CHANGE ENDORSEMENT</th>\n",
       "      <td>866</td>\n",
       "      <td>10</td>\n",
       "      <td>163.112009</td>\n",
       "      <td>111.0</td>\n",
       "      <td>4833</td>\n",
       "      <td>215.160368</td>\n",
       "      <td>141255</td>\n",
       "    </tr>\n",
       "    <tr>\n",
       "      <th>DECLARATION</th>\n",
       "      <td>966</td>\n",
       "      <td>4</td>\n",
       "      <td>516.761905</td>\n",
       "      <td>404.5</td>\n",
       "      <td>4734</td>\n",
       "      <td>426.754326</td>\n",
       "      <td>499192</td>\n",
       "    </tr>\n",
       "    <tr>\n",
       "      <th>DELETION OF INTEREST</th>\n",
       "      <td>4779</td>\n",
       "      <td>66</td>\n",
       "      <td>135.516008</td>\n",
       "      <td>104.0</td>\n",
       "      <td>1941</td>\n",
       "      <td>95.745271</td>\n",
       "      <td>647631</td>\n",
       "    </tr>\n",
       "    <tr>\n",
       "      <th>EXPIRATION NOTICE</th>\n",
       "      <td>719</td>\n",
       "      <td>70</td>\n",
       "      <td>302.303199</td>\n",
       "      <td>203.0</td>\n",
       "      <td>1798</td>\n",
       "      <td>270.202116</td>\n",
       "      <td>217356</td>\n",
       "    </tr>\n",
       "    <tr>\n",
       "      <th>INTENT TO CANCEL NOTICE</th>\n",
       "      <td>227</td>\n",
       "      <td>8</td>\n",
       "      <td>312.960352</td>\n",
       "      <td>266.0</td>\n",
       "      <td>2979</td>\n",
       "      <td>243.826253</td>\n",
       "      <td>71042</td>\n",
       "    </tr>\n",
       "    <tr>\n",
       "      <th>NON-RENEWAL NOTICE</th>\n",
       "      <td>618</td>\n",
       "      <td>87</td>\n",
       "      <td>234.312298</td>\n",
       "      <td>163.0</td>\n",
       "      <td>1071</td>\n",
       "      <td>159.959125</td>\n",
       "      <td>144805</td>\n",
       "    </tr>\n",
       "    <tr>\n",
       "      <th>POLICY CHANGE</th>\n",
       "      <td>10229</td>\n",
       "      <td>1</td>\n",
       "      <td>352.781113</td>\n",
       "      <td>230.0</td>\n",
       "      <td>9076</td>\n",
       "      <td>454.899502</td>\n",
       "      <td>3608598</td>\n",
       "    </tr>\n",
       "    <tr>\n",
       "      <th>REINSTATEMENT NOTICE</th>\n",
       "      <td>4295</td>\n",
       "      <td>7</td>\n",
       "      <td>158.863329</td>\n",
       "      <td>134.0</td>\n",
       "      <td>2665</td>\n",
       "      <td>97.001223</td>\n",
       "      <td>682318</td>\n",
       "    </tr>\n",
       "    <tr>\n",
       "      <th>RETURNED CHECK</th>\n",
       "      <td>730</td>\n",
       "      <td>42</td>\n",
       "      <td>358.061644</td>\n",
       "      <td>289.5</td>\n",
       "      <td>4460</td>\n",
       "      <td>280.876207</td>\n",
       "      <td>261385</td>\n",
       "    </tr>\n",
       "  </tbody>\n",
       "</table>\n",
       "</div>"
      ],
      "text/plain": [
       "                         count  min        mean  median   max         std  \\\n",
       "type                                                                        \n",
       "APPLICATION                226   34  884.026549   766.5  3465  661.126257   \n",
       "BILL                     18449    1  395.256545   330.0  7030  249.893216   \n",
       "BILL BINDER                277    5  418.606498   317.0  3360  371.339565   \n",
       "BINDER                    8590    1  483.029453   358.0  7426  439.725545   \n",
       "CANCELLATION NOTICE       9571    7  231.965312   179.0  4107  171.399429   \n",
       "CHANGE ENDORSEMENT         866   10  163.112009   111.0  4833  215.160368   \n",
       "DECLARATION                966    4  516.761905   404.5  4734  426.754326   \n",
       "DELETION OF INTEREST      4779   66  135.516008   104.0  1941   95.745271   \n",
       "EXPIRATION NOTICE          719   70  302.303199   203.0  1798  270.202116   \n",
       "INTENT TO CANCEL NOTICE    227    8  312.960352   266.0  2979  243.826253   \n",
       "NON-RENEWAL NOTICE         618   87  234.312298   163.0  1071  159.959125   \n",
       "POLICY CHANGE            10229    1  352.781113   230.0  9076  454.899502   \n",
       "REINSTATEMENT NOTICE      4295    7  158.863329   134.0  2665   97.001223   \n",
       "RETURNED CHECK             730   42  358.061644   289.5  4460  280.876207   \n",
       "\n",
       "                             sum  \n",
       "type                              \n",
       "APPLICATION               199790  \n",
       "BILL                     7292088  \n",
       "BILL BINDER               115954  \n",
       "BINDER                   4149223  \n",
       "CANCELLATION NOTICE      2220140  \n",
       "CHANGE ENDORSEMENT        141255  \n",
       "DECLARATION               499192  \n",
       "DELETION OF INTEREST      647631  \n",
       "EXPIRATION NOTICE         217356  \n",
       "INTENT TO CANCEL NOTICE    71042  \n",
       "NON-RENEWAL NOTICE        144805  \n",
       "POLICY CHANGE            3608598  \n",
       "REINSTATEMENT NOTICE      682318  \n",
       "RETURNED CHECK            261385  "
      ]
     },
     "execution_count": 16,
     "metadata": {},
     "output_type": "execute_result"
    }
   ],
   "source": [
    "#Check the grouping by the doc type\n",
    "df.groupby('type').word_count.agg(['count','min','mean','median','max','std','sum'])"
   ]
  },
  {
   "cell_type": "code",
   "execution_count": 17,
   "metadata": {},
   "outputs": [
    {
     "data": {
      "text/plain": [
       "<AxesSubplot:xlabel='type'>"
      ]
     },
     "execution_count": 17,
     "metadata": {},
     "output_type": "execute_result"
    },
    {
     "data": {
      "image/png": "[encoded data removed]",
      "text/plain": [
       "<Figure size 432x288 with 1 Axes>"
      ]
     },
     "metadata": {
      "needs_background": "light"
     },
     "output_type": "display_data"
    }
   ],
   "source": [
    "# Plotting the mean number of words per document type\n",
    "df.groupby('type').word_count.mean().plot(kind='bar')"
   ]
  },
  {
   "cell_type": "markdown",
   "metadata": {},
   "source": [
    "We would need to investigate the documents where we have less than 10 words\n",
    "with some of them having only 1 word, which seems quite sketchy and might be bad data from\n",
    "OCR since both mean and median seems to be very high for the doc type"
   ]
  },
  {
   "cell_type": "code",
   "execution_count": 18,
   "metadata": {},
   "outputs": [
    {
     "data": {
      "text/plain": [
       "type\n",
       "BILL BINDER                 1\n",
       "CANCELLATION NOTICE         1\n",
       "CHANGE ENDORSEMENT          1\n",
       "INTENT TO CANCEL NOTICE     1\n",
       "REINSTATEMENT NOTICE        1\n",
       "DECLARATION                 2\n",
       "BILL                       14\n",
       "BINDER                     28\n",
       "POLICY CHANGE              57\n",
       "dtype: int64"
      ]
     },
     "execution_count": 18,
     "metadata": {},
     "output_type": "execute_result"
    }
   ],
   "source": [
    "df[df['word_count'] <= 10].groupby('type').size().sort_values()"
   ]
  },
  {
   "cell_type": "code",
   "execution_count": 19,
   "metadata": {},
   "outputs": [],
   "source": [
    "#We should go ahead and drop there records\n",
    "df = df[df['word_count'] > 10]"
   ]
  },
  {
   "cell_type": "code",
   "execution_count": 20,
   "metadata": {},
   "outputs": [
    {
     "data": {
      "text/plain": [
       "<AxesSubplot:xlabel='type', ylabel='word_count'>"
      ]
     },
     "execution_count": 20,
     "metadata": {},
     "output_type": "execute_result"
    },
    {
     "data": {
      "image/png": "[encoded data removed]",
      "text/plain": [
       "<Figure size 2160x720 with 1 Axes>"
      ]
     },
     "metadata": {
      "needs_background": "light"
     },
     "output_type": "display_data"
    }
   ],
   "source": [
    "#Lets look at the word count distribution\n",
    "plt.figure(figsize=[30,10])\n",
    "plt.ylim(0, 2000)\n",
    "sns.boxplot(x='type',y='word_count',data=df,whis=3)"
   ]
  },
  {
   "cell_type": "markdown",
   "metadata": {},
   "source": [
    "There seems to be lot of outliers, lets drop the outliers"
   ]
  },
  {
   "cell_type": "code",
   "execution_count": 21,
   "metadata": {},
   "outputs": [],
   "source": [
    "#Drop the outliers\n",
    "df = df[~((df['type']=='POLICY CHANGE') & (df['word_count']>1100))]\n",
    "df = df[~((df['type']=='BILL') & (df['word_count']>1300))]\n",
    "df = df[~((df['type']=='BINDER') & (df['word_count']>1400))]\n",
    "df = df[~((df['type']=='CANCELLATION NOTICE') & (df['word_count']>750))]\n",
    "df = df[~((df['type']=='REINSTATEMENT NOTICE') & (df['word_count']>250))]\n",
    "df = df[~((df['type']=='DELETION OF INTEREST') & (df['word_count']>250))]\n",
    "df = df[~((df['type']=='DECLARATION') & (df['word_count']>1750))]\n",
    "df = df[~((df['type']=='EXPIRATION NOTICE') & (df['word_count']>600))]\n",
    "df = df[~((df['type']=='BILL BINDER') & (df['word_count']>1100))]\n",
    "df = df[~((df['type']=='CHANGE ENDORSEMENT') & (df['word_count']>200))]"
   ]
  },
  {
   "cell_type": "code",
   "execution_count": 22,
   "metadata": {},
   "outputs": [
    {
     "data": {
      "text/plain": [
       "<AxesSubplot:xlabel='type', ylabel='word_count'>"
      ]
     },
     "execution_count": 22,
     "metadata": {},
     "output_type": "execute_result"
    },
    {
     "data": {
      "image/png": "[encoded data removed]",
      "text/plain": [
       "<Figure size 2160x720 with 1 Axes>"
      ]
     },
     "metadata": {
      "needs_background": "light"
     },
     "output_type": "display_data"
    }
   ],
   "source": [
    "#Lets do the box plot again\n",
    "plt.figure(figsize=[30,10])\n",
    "plt.ylim(0, 2000)\n",
    "sns.boxplot(x='type',y='word_count',data=df,whis=3)"
   ]
  },
  {
   "cell_type": "code",
   "execution_count": 23,
   "metadata": {},
   "outputs": [
    {
     "data": {
      "text/plain": [
       "<AxesSubplot:xlabel='type', ylabel='count'>"
      ]
     },
     "execution_count": 23,
     "metadata": {},
     "output_type": "execute_result"
    },
    {
     "data": {
      "image/png": "[encoded data removed]",
      "text/plain": [
       "<Figure size 2160x720 with 1 Axes>"
      ]
     },
     "metadata": {
      "needs_background": "light"
     },
     "output_type": "display_data"
    }
   ],
   "source": [
    "#Lets look at categories again\n",
    "plt.figure(figsize=[30,10])\n",
    "sns.countplot(x=df.type)"
   ]
  },
  {
   "cell_type": "markdown",
   "metadata": {},
   "source": [
    "We have almost twice the amount of Bill then any other cateogry, lets downsample the bill type"
   ]
  },
  {
   "cell_type": "code",
   "execution_count": 24,
   "metadata": {},
   "outputs": [],
   "source": [
    "#Use the downsampling function to reduce the bill to 10000\n",
    "df=sample_class(df[df['type']=='BILL']\n",
    "             ,df[df['type']!='BILL']\n",
    "             ,10000\n",
    "             ,'down_sample_majority_class'\n",
    "             ,random_state=123)"
   ]
  },
  {
   "cell_type": "code",
   "execution_count": 25,
   "metadata": {},
   "outputs": [
    {
     "data": {
      "text/plain": [
       "<AxesSubplot:xlabel='type', ylabel='count'>"
      ]
     },
     "execution_count": 25,
     "metadata": {},
     "output_type": "execute_result"
    },
    {
     "data": {
      "image/png": "[encoded data removed]",
      "text/plain": [
       "<Figure size 2160x720 with 1 Axes>"
      ]
     },
     "metadata": {
      "needs_background": "light"
     },
     "output_type": "display_data"
    }
   ],
   "source": [
    "#Lets look at Dist again\n",
    "plt.figure(figsize=[30,10])\n",
    "sns.countplot(x=df.type)"
   ]
  },
  {
   "cell_type": "code",
   "execution_count": 26,
   "metadata": {},
   "outputs": [],
   "source": [
    "#df['breakpoint']=df.text.str.find(' ',24000)\n",
    "#df['new_text'] = df.apply(lambda x: x['text'][:2001], axis=1)\n",
    "#df.apply(lambda x: x['text'][:2001], axis=1)"
   ]
  },
  {
   "cell_type": "code",
   "execution_count": 27,
   "metadata": {},
   "outputs": [],
   "source": [
    "#Export the data to csv to do some modeling on it\n",
    "df.to_csv('data_preprocessed.csv',index=False)"
   ]
  },
  {
   "cell_type": "markdown",
   "metadata": {},
   "source": [
    "The data is still quite unbalanced, some ways to fix this can be combining certain document types\n",
    "togeather which are similar\n",
    "like bill-bill binder etc"
   ]
  },
  {
   "cell_type": "code",
   "execution_count": null,
   "metadata": {},
   "outputs": [],
   "source": []
  }
 ],
 "metadata": {
  "kernelspec": {
   "display_name": "Python 3",
   "language": "python",
   "name": "python3"
  },
  "language_info": {
   "codemirror_mode": {
    "name": "ipython",
    "version": 3
   },
   "file_extension": ".py",
   "mimetype": "text/x-python",
   "name": "python",
   "nbconvert_exporter": "python",
   "pygments_lexer": "ipython3",
   "version": "3.6.12"
  }
 },
 "nbformat": 4,
 "nbformat_minor": 4
}
