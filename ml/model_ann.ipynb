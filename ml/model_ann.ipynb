{
  "nbformat": 4,
  "nbformat_minor": 0,
  "metadata": {
    "colab": {
      "name": "model_ann.ipynb",
      "provenance": [],
      "collapsed_sections": []
    },
    "kernelspec": {
      "name": "python3",
      "display_name": "Python 3"
    }
  },
  "cells": [
    {
      "cell_type": "code",
      "metadata": {
        "id": "M-PNKZr6irIi"
      },
      "source": [
        "import numpy as np\n",
        "import pandas as pd\n",
        "import matplotlib.pyplot as plt\n",
        "%matplotlib inline\n",
        "\n",
        "from sklearn.model_selection import train_test_split\n",
        "from sklearn.preprocessing import LabelBinarizer, LabelEncoder\n",
        "from sklearn.metrics import confusion_matrix\n",
        "from sklearn.feature_extraction.text import TfidfVectorizer\n",
        "\n",
        "import tensorflow as tf\n",
        "from tensorflow import keras\n",
        "from keras.models import Sequential\n",
        "from keras.layers import Dense, Flatten, Activation, Dropout, GlobalMaxPool1D, Conv1D\n",
        "from keras.layers.embeddings import Embedding\n",
        "from keras.preprocessing import text, sequence\n",
        "from keras.preprocessing.text import Tokenizer\n",
        "from keras.preprocessing.sequence import pad_sequences\n",
        "from keras.callbacks import EarlyStopping\n",
        "from keras import utils"
      ],
      "execution_count": 1,
      "outputs": []
    },
    {
      "cell_type": "code",
      "metadata": {
        "colab": {
          "base_uri": "https://localhost:8080/",
          "height": 204
        },
        "id": "urFCkq9yi12i",
        "outputId": "2d3f55fa-6de9-4315-ba72-eb13ebef49d2"
      },
      "source": [
        "# loading pre processed data\n",
        "df = pd.read_csv('/content/drive/MyDrive/data_preprocessed.csv')\n",
        "df.head()"
      ],
      "execution_count": 2,
      "outputs": [
        {
          "output_type": "execute_result",
          "data": {
            "text/html": [
              "<div>\n",
              "<style scoped>\n",
              "    .dataframe tbody tr th:only-of-type {\n",
              "        vertical-align: middle;\n",
              "    }\n",
              "\n",
              "    .dataframe tbody tr th {\n",
              "        vertical-align: top;\n",
              "    }\n",
              "\n",
              "    .dataframe thead th {\n",
              "        text-align: right;\n",
              "    }\n",
              "</style>\n",
              "<table border=\"1\" class=\"dataframe\">\n",
              "  <thead>\n",
              "    <tr style=\"text-align: right;\">\n",
              "      <th></th>\n",
              "      <th>type</th>\n",
              "      <th>text</th>\n",
              "      <th>word_count</th>\n",
              "    </tr>\n",
              "  </thead>\n",
              "  <tbody>\n",
              "    <tr>\n",
              "      <th>0</th>\n",
              "      <td>BILL</td>\n",
              "      <td>641356219cbc 422068f04236 6099f4533cc2 6413562...</td>\n",
              "      <td>254</td>\n",
              "    </tr>\n",
              "    <tr>\n",
              "      <th>1</th>\n",
              "      <td>BILL</td>\n",
              "      <td>6ca2dd348663 d38820625542 25c57acdf805 2a49f47...</td>\n",
              "      <td>281</td>\n",
              "    </tr>\n",
              "    <tr>\n",
              "      <th>2</th>\n",
              "      <td>BILL</td>\n",
              "      <td>019e6932b862 d7b4f3b093bf b9699ce57810 7f3b857...</td>\n",
              "      <td>252</td>\n",
              "    </tr>\n",
              "    <tr>\n",
              "      <th>3</th>\n",
              "      <td>BILL</td>\n",
              "      <td>03ea9b9cef7d b136f6349cf3 036087ac04f9 999d400...</td>\n",
              "      <td>434</td>\n",
              "    </tr>\n",
              "    <tr>\n",
              "      <th>4</th>\n",
              "      <td>BILL</td>\n",
              "      <td>586242498a88 9de56cbee28f 7c81ee28575a c5d48b6...</td>\n",
              "      <td>385</td>\n",
              "    </tr>\n",
              "  </tbody>\n",
              "</table>\n",
              "</div>"
            ],
            "text/plain": [
              "   type                                               text  word_count\n",
              "0  BILL  641356219cbc 422068f04236 6099f4533cc2 6413562...         254\n",
              "1  BILL  6ca2dd348663 d38820625542 25c57acdf805 2a49f47...         281\n",
              "2  BILL  019e6932b862 d7b4f3b093bf b9699ce57810 7f3b857...         252\n",
              "3  BILL  03ea9b9cef7d b136f6349cf3 036087ac04f9 999d400...         434\n",
              "4  BILL  586242498a88 9de56cbee28f 7c81ee28575a c5d48b6...         385"
            ]
          },
          "metadata": {
            "tags": []
          },
          "execution_count": 2
        }
      ]
    },
    {
      "cell_type": "code",
      "metadata": {
        "colab": {
          "base_uri": "https://localhost:8080/"
        },
        "id": "hPK00h2si4Xj",
        "outputId": "37dd183b-e031-48a6-e12f-03d6d9b8b727"
      },
      "source": [
        "df.shape"
      ],
      "execution_count": 3,
      "outputs": [
        {
          "output_type": "execute_result",
          "data": {
            "text/plain": [
              "(50262, 3)"
            ]
          },
          "metadata": {
            "tags": []
          },
          "execution_count": 3
        }
      ]
    },
    {
      "cell_type": "code",
      "metadata": {
        "id": "iMM2g_xTjEgD"
      },
      "source": [
        "#Spliting into train test\n",
        "X = df['text']\n",
        "y = df['type']\n",
        "\n",
        "raw_doc_train, raw_doc_test, train_y, test_y = train_test_split(X, y, test_size=0.25, random_state=100)"
      ],
      "execution_count": 4,
      "outputs": []
    },
    {
      "cell_type": "code",
      "metadata": {
        "colab": {
          "base_uri": "https://localhost:8080/"
        },
        "id": "S11vfC9cjVX9",
        "outputId": "ebe0a418-88b5-4315-d782-2a8f66b76654"
      },
      "source": [
        "#Tokenizing the data\n",
        "tokenize = Tokenizer(num_words=1000)\n",
        "tokenize.fit_on_texts(raw_doc_train)\n",
        "\n",
        "X_train = tokenize.texts_to_sequences(raw_doc_train)\n",
        "X_test = tokenize.texts_to_sequences(raw_doc_test)\n",
        "\n",
        "vocab_size = len(tokenize.word_index) + 1  \n",
        "\n",
        "print(raw_doc_train[0])\n",
        "print(X_train[0])"
      ],
      "execution_count": 5,
      "outputs": [
        {
          "output_type": "stream",
          "text": [
            "641356219cbc 422068f04236 6099f4533cc2 641356219cbc d19b1c129f40 6ca2dd348663 d38820625542 9e0c01b8b857 a38ce021437b afb1e3806fc1 de9738ee8b24 fb2cd24a447a 8f75273e5510 f95d0bea231b 8c83387cf5c5 790ab7bde7fb 74dbf7440bf2 6df68667f16b 6365c4563bd1 4ad52689d690 a024d1e04168 e504ee0aaf6d 25c57acdf805 eca16ee06b98 0c222c6660f2 88feab596a13 a5f8a7c9a886 54709b24b45f f8b0c07e306c 586242498a88 1ab34730c1e0 54709b24b45f 918d14133622 c16651ffa1b7 586242498a88 0562c756a2f2 90769b70107f 1b6d0614f2c7 ce1f034abb5d cf4fc632eed2 25c57acdf805 586242498a88 1015893e384a 5e99d31d8fa4 38c26da16839 641356219cbc 86a22d9dbc13 6a13d8c4da18 25c57acdf805 1c303d15eb65 923f2d570efb ed1e3242ee34 eeb86a6a04e4 1015893e384a 47a9786e25f4 d5f4611022c1 586242498a88 1e9a1c2c007e 167f432b7c1a 0dab954ac62d 86a22d9dbc13 e5e6da4eb92e d464ee914de0 b1bac4b400e2 06becaa77d03 1b6c95839a6d cc4963e8ab78 5d8ab3e5d910 66f5b57b87b2 c33578d25a0d 1015893e384a fdf564ed2f74 6bff0c8c1185 9449f64c63cb cd28aa0d62e2 6ce6cc5a3203 90769b70107f db22d00336d3 fe081ae57a8b 7d9e333a86da 04503bc22789 6ce6cc5a3203 90769b70107f 1b6d0614f2c7 1669ab06727a 1d4249bb404a 878460b4304e 267ed5ed74a6 586242498a88 b9699ce57810 ed5d3a65ee2d 4ad52689d690 a024d1e04168 c337a85b8ef9 9f11111004ec f9b20c280980 c337a85b8ef9 a9ee836e8303 a38ce021437b 7d9e333a86da dc25252acd48 e94953618947 bfd93d984745 de9738ee8b24 641356219cbc e1e928632311 0895e202d31f 54709b24b45f 422068f04236 798fe9915030 6099f4533cc2 1e9a1c2c007e 50f7f4e0954b 2e85d01c5d75 51c262134ca3 a60f6057d53b 950c0b224992 6b304aabdcee b9471719c3c2 6b304aabdcee 86a22d9dbc13 93790ade6682 61b7e0f00ffe b1bac4b400e2 1068682ce752 1b6c95839a6d cc429363fb23 3769caa0c77c 5d8ab3e5d910 43565b1afa44 38c26da16839 b41842513b69 38c26da16839 9e0c01b8b857 86a22d9dbc13 ce1f034abb5d 294e676d2b3d 641356219cbc 86a22d9dbc13 d19b1c129f40 6a13d8c4da18 6a13d8c4da18 75440bb763a2 c33578d25a0d d464ee914de0 036087ac04f9 fdf564ed2f74 06becaa77d03 b136f6349cf3 9449f64c63cb cc4963e8ab78 6ce6cc5a3203 d464ee914de0 66f5b57b87b2 422068f04236 06becaa77d03 6ca2dd348663 fe3fe35491b4 d38820625542 4357c81e10c1 66f5b57b87b2 9e0c01b8b857 a31962fbd5f3 3c5eb8a1e4f1 a38ce021437b dc25252acd48 21e314d3afcc 365a9390d225 f95d0bea231b 21e314d3afcc b9699ce57810 04503bc22789 4eaa4d35f3f0 1d4249bb404a cbfb3eb99bea af671fbeb212 43565b1afa44 422068f04236 df330922aae2 9e0c01b8b857 69e10bcd0d9a 54709b24b45f a38ce021437b c6ba0e0c8c8c 6ce6cc5a3203 0b829bfe09c4 b208ae1e8232 773d746b730e ca0c1e05f5ab 85bf198ebad1 8ffea8597a80 e943e5e5b779 1015893e384a 521006775597 b0102a0ac952 3b61e2564d21 327880382e41 1015893e384a 0b829bfe09c4 586242498a88 1015893e384a 6ce6cc5a3203 90769b70107f 1b6d0614f2c7 b0102a0ac952 93790ade6682 61b7e0f00ffe 4357c81e10c1 a31962fbd5f3 8f75273e5510 f95d0bea231b 1015893e384a 8c83387cf5c5 6bff0c8c1185 dc25252acd48 21e314d3afcc 790ab7bde7fb 74dbf7440bf2 641356219cbc 6df68667f16b 25c57acdf805 6ce6cc5a3203 a024d1e04168 c337a85b8ef9 78122d96e6a3 6ce6cc5a3203 036087ac04f9 c62e55afbf5c 6b304aabdcee 6b304aabdcee 6b304aabdcee 6b304aabdcee b136f6349cf3 6ca2dd348663 521006775597 d38820625542 dc25252acd48 21e314d3afcc 9e0c01b8b857 dc25252acd48 21e314d3afcc a38ce021437b f2b0e028fe2c 422068f04236 afb1e3806fc1 de9738ee8b24 fb2cd24a447a eeb86a6a04e4 f7ae6f8257da 6ce6cc5a3203 90769b70107f 1b6d0614f2c7 641356219cbc 25c57acdf805\n",
            "[24, 308, 152, 811, 18, 54, 243, 407, 406, 649, 946, 211, 3, 1, 79, 988, 988, 34, 2, 604, 481, 4, 283, 457, 79, 481, 345, 988, 132, 988, 248, 202, 226, 79, 591, 481, 988, 891, 58, 141, 144, 531, 122, 8, 114, 175, 345, 110, 202, 946, 63, 141, 630, 10, 110, 119, 873, 29, 284, 208, 280, 273, 335, 226, 202, 331, 988, 79, 481, 114, 777, 110, 29, 284, 24, 630, 119, 3, 124, 269, 226, 650, 988, 44, 343, 25, 580, 406, 58, 119, 275, 339, 988, 64, 185, 988, 564, 988, 93, 1, 141, 124, 8, 141, 243, 988, 988, 608, 564, 290, 71, 694, 485, 143, 61, 2, 433, 649, 20, 321, 988, 212, 2, 12, 91, 990, 130, 185, 91, 990, 218, 988, 226, 946, 141, 25, 143, 374, 19, 3, 141, 722, 630, 24, 308, 988, 97, 680, 226, 141, 649, 946, 20, 889, 106, 248, 16, 79, 343, 243, 202, 740, 202, 144, 1, 202, 88, 64, 19, 37, 239, 21, 7, 184, 737, 202, 130, 27, 79, 481, 136, 305, 219, 242, 20, 3, 325, 20, 307, 828, 141, 335, 29, 124, 202, 202, 30, 3, 76, 29, 73, 786, 27, 189, 228, 18, 494, 2, 92, 215, 110, 76, 29, 1, 345, 227, 18, 34, 142, 114, 71, 8, 440, 16, 114, 664, 82, 405, 945, 55, 1, 8, 561, 259, 240, 37, 16, 103, 248, 426, 142, 62, 51, 162, 65, 79, 19, 106, 7, 915, 21, 226, 229, 173, 136, 148, 54, 52, 494, 110, 245, 903, 271, 248, 426, 2, 18, 494, 110, 140, 778, 29, 93, 331, 946, 175, 63, 202, 899, 737, 242, 27, 24, 37, 114, 511, 331, 10, 37, 343, 114, 175, 127, 42, 141, 12, 791, 25, 21, 531, 426, 505, 946, 2, 137, 20, 18, 91, 494, 41, 224, 218, 990, 110, 40, 58, 45, 176, 128, 9, 22, 70, 151, 12, 14, 20, 152, 13, 264, 743, 263, 343, 38, 722, 119, 66, 108, 44, 311, 37, 61, 946, 472, 42, 739, 6, 25, 296, 67, 91, 10, 12, 990, 119, 123, 227, 311, 61, 706, 25, 227, 42, 249, 51, 106, 65, 293, 202, 3, 494, 54, 374, 110, 3, 97, 811, 66, 406, 2, 54, 946, 730, 3, 54, 279, 856, 8, 12, 88, 65, 33, 28, 33, 276, 34, 7, 127, 34, 648, 4]\n"
          ],
          "name": "stdout"
        }
      ]
    },
    {
      "cell_type": "code",
      "metadata": {
        "colab": {
          "base_uri": "https://localhost:8080/"
        },
        "id": "NhztV-4Mk4Yn",
        "outputId": "97013481-1faf-42c3-ac8e-7162aa4be3d3"
      },
      "source": [
        "# Lets look at maximum wordsin the a doc in dataset\n",
        "print('Min words: '+ str(min([len(a) for a in X_train])))\n",
        "print('Max words: '+ str(max([len(a) for a in X_train])))\n",
        "print('Average words: '+ str(sum([len(a) for a in X_train])/len([len(a) for a in X_train])))\n",
        "print('Median words: '+ str(np.median([len(a) for a in X_train])))\n",
        "print('Std words: '+ str(np.std([len(a) for a in X_train])))"
      ],
      "execution_count": 6,
      "outputs": [
        {
          "output_type": "stream",
          "text": [
            "Min words: 3\n",
            "Max words: 2550\n",
            "Average words: 197.55881260611204\n",
            "Median words: 155.0\n",
            "Std words: 143.5334806969283\n"
          ],
          "name": "stdout"
        }
      ]
    },
    {
      "cell_type": "code",
      "metadata": {
        "colab": {
          "base_uri": "https://localhost:8080/"
        },
        "id": "4Nv3o0W7kaNK",
        "outputId": "bf8bb184-7e6d-4cf5-a212-43b148621c79"
      },
      "source": [
        "# Since more than 95% of our data is less than 730 words lets restrict it to 750\n",
        "maxlen = 730\n",
        "\n",
        "X_train = pad_sequences(X_train, padding='post', maxlen=maxlen)\n",
        "X_test = pad_sequences(X_test, padding='post', maxlen=maxlen)\n",
        "\n",
        "print(X_train[0, :])"
      ],
      "execution_count": 7,
      "outputs": [
        {
          "output_type": "stream",
          "text": [
            "[ 24 308 152 811  18  54 243 407 406 649 946 211   3   1  79 988 988  34\n",
            "   2 604 481   4 283 457  79 481 345 988 132 988 248 202 226  79 591 481\n",
            " 988 891  58 141 144 531 122   8 114 175 345 110 202 946  63 141 630  10\n",
            " 110 119 873  29 284 208 280 273 335 226 202 331 988  79 481 114 777 110\n",
            "  29 284  24 630 119   3 124 269 226 650 988  44 343  25 580 406  58 119\n",
            " 275 339 988  64 185 988 564 988  93   1 141 124   8 141 243 988 988 608\n",
            " 564 290  71 694 485 143  61   2 433 649  20 321 988 212   2  12  91 990\n",
            " 130 185  91 990 218 988 226 946 141  25 143 374  19   3 141 722 630  24\n",
            " 308 988  97 680 226 141 649 946  20 889 106 248  16  79 343 243 202 740\n",
            " 202 144   1 202  88  64  19  37 239  21   7 184 737 202 130  27  79 481\n",
            " 136 305 219 242  20   3 325  20 307 828 141 335  29 124 202 202  30   3\n",
            "  76  29  73 786  27 189 228  18 494   2  92 215 110  76  29   1 345 227\n",
            "  18  34 142 114  71   8 440  16 114 664  82 405 945  55   1   8 561 259\n",
            " 240  37  16 103 248 426 142  62  51 162  65  79  19 106   7 915  21 226\n",
            " 229 173 136 148  54  52 494 110 245 903 271 248 426   2  18 494 110 140\n",
            " 778  29  93 331 946 175  63 202 899 737 242  27  24  37 114 511 331  10\n",
            "  37 343 114 175 127  42 141  12 791  25  21 531 426 505 946   2 137  20\n",
            "  18  91 494  41 224 218 990 110  40  58  45 176 128   9  22  70 151  12\n",
            "  14  20 152  13 264 743 263 343  38 722 119  66 108  44 311  37  61 946\n",
            " 472  42 739   6  25 296  67  91  10  12 990 119 123 227 311  61 706  25\n",
            " 227  42 249  51 106  65 293 202   3 494  54 374 110   3  97 811  66 406\n",
            "   2  54 946 730   3  54 279 856   8  12  88  65  33  28  33 276  34   7\n",
            " 127  34 648   4   0   0   0   0   0   0   0   0   0   0   0   0   0   0\n",
            "   0   0   0   0   0   0   0   0   0   0   0   0   0   0   0   0   0   0\n",
            "   0   0   0   0   0   0   0   0   0   0   0   0   0   0   0   0   0   0\n",
            "   0   0   0   0   0   0   0   0   0   0   0   0   0   0   0   0   0   0\n",
            "   0   0   0   0   0   0   0   0   0   0   0   0   0   0   0   0   0   0\n",
            "   0   0   0   0   0   0   0   0   0   0   0   0   0   0   0   0   0   0\n",
            "   0   0   0   0   0   0   0   0   0   0   0   0   0   0   0   0   0   0\n",
            "   0   0   0   0   0   0   0   0   0   0   0   0   0   0   0   0   0   0\n",
            "   0   0   0   0   0   0   0   0   0   0   0   0   0   0   0   0   0   0\n",
            "   0   0   0   0   0   0   0   0   0   0   0   0   0   0   0   0   0   0\n",
            "   0   0   0   0   0   0   0   0   0   0   0   0   0   0   0   0   0   0\n",
            "   0   0   0   0   0   0   0   0   0   0   0   0   0   0   0   0   0   0\n",
            "   0   0   0   0   0   0   0   0   0   0   0   0   0   0   0   0   0   0\n",
            "   0   0   0   0   0   0   0   0   0   0   0   0   0   0   0   0   0   0\n",
            "   0   0   0   0   0   0   0   0   0   0   0   0   0   0   0   0   0   0\n",
            "   0   0   0   0   0   0   0   0   0   0   0   0   0   0   0   0   0   0\n",
            "   0   0   0   0   0   0   0   0   0   0   0   0   0   0   0   0   0   0\n",
            "   0   0   0   0   0   0   0   0   0   0   0   0   0   0   0   0   0   0\n",
            "   0   0   0   0   0   0   0   0   0   0]\n"
          ],
          "name": "stdout"
        }
      ]
    },
    {
      "cell_type": "code",
      "metadata": {
        "id": "87GAIqa-kilp"
      },
      "source": [
        "encoder = LabelEncoder()\n",
        "encoder.fit(train_y)\n",
        "y_train = encoder.transform(train_y)\n",
        "y_test = encoder.transform(test_y)\n",
        "\n",
        "num_classes = np.max(y_train) + 1\n",
        "y_train = utils.to_categorical(y_train, num_classes)\n",
        "y_test = utils.to_categorical(y_test, num_classes)"
      ],
      "execution_count": 8,
      "outputs": []
    },
    {
      "cell_type": "code",
      "metadata": {
        "colab": {
          "base_uri": "https://localhost:8080/"
        },
        "id": "IHWuKUlLkjip",
        "outputId": "51492200-730c-4220-9f86-0ebf37849bab"
      },
      "source": [
        "embedding_dim = 64\n",
        "\n",
        "model = Sequential()\n",
        "model.add(Embedding(input_dim=vocab_size, output_dim=embedding_dim, input_length=maxlen))\n",
        "model.add(Flatten())\n",
        "model.add(Dense(128, activation='relu'))\n",
        "model.add(Dropout(0.5))\n",
        "model.add(Dense(128, activation='relu'))\n",
        "model.add(Dense(14, activation='softmax'))\n",
        "\n",
        "model.compile(optimizer='adam',\n",
        "              loss='categorical_crossentropy',\n",
        "              metrics=['accuracy'])\n",
        "model.summary()"
      ],
      "execution_count": 9,
      "outputs": [
        {
          "output_type": "stream",
          "text": [
            "Model: \"sequential\"\n",
            "_________________________________________________________________\n",
            "Layer (type)                 Output Shape              Param #   \n",
            "=================================================================\n",
            "embedding (Embedding)        (None, 730, 64)           43387584  \n",
            "_________________________________________________________________\n",
            "flatten (Flatten)            (None, 46720)             0         \n",
            "_________________________________________________________________\n",
            "dense (Dense)                (None, 128)               5980288   \n",
            "_________________________________________________________________\n",
            "dropout (Dropout)            (None, 128)               0         \n",
            "_________________________________________________________________\n",
            "dense_1 (Dense)              (None, 128)               16512     \n",
            "_________________________________________________________________\n",
            "dense_2 (Dense)              (None, 14)                1806      \n",
            "=================================================================\n",
            "Total params: 49,386,190\n",
            "Trainable params: 49,386,190\n",
            "Non-trainable params: 0\n",
            "_________________________________________________________________\n"
          ],
          "name": "stdout"
        }
      ]
    },
    {
      "cell_type": "code",
      "metadata": {
        "colab": {
          "base_uri": "https://localhost:8080/"
        },
        "id": "_Lwwpau0oINO",
        "outputId": "1bed17ae-9822-43cf-eead-1817d5276a4e"
      },
      "source": [
        "es = EarlyStopping(monitor='val_loss',patience=2)\n",
        "\n",
        "history = model.fit(X_train, y_train,\n",
        "                    batch_size=64,\n",
        "                    epochs=15,\n",
        "                    validation_data=(X_test, y_test),\n",
        "                    callbacks=[es])"
      ],
      "execution_count": 10,
      "outputs": [
        {
          "output_type": "stream",
          "text": [
            "Epoch 1/15\n",
            "589/589 [==============================] - 313s 529ms/step - loss: 1.3562 - accuracy: 0.5403 - val_loss: 0.5762 - val_accuracy: 0.8176\n",
            "Epoch 2/15\n",
            "589/589 [==============================] - 328s 556ms/step - loss: 0.4843 - accuracy: 0.8512 - val_loss: 0.5299 - val_accuracy: 0.8384\n",
            "Epoch 3/15\n",
            "589/589 [==============================] - 317s 538ms/step - loss: 0.2998 - accuracy: 0.9086 - val_loss: 0.5770 - val_accuracy: 0.8389\n",
            "Epoch 4/15\n",
            "589/589 [==============================] - 311s 528ms/step - loss: 0.1940 - accuracy: 0.9419 - val_loss: 0.6902 - val_accuracy: 0.8357\n"
          ],
          "name": "stdout"
        }
      ]
    },
    {
      "cell_type": "code",
      "metadata": {
        "colab": {
          "base_uri": "https://localhost:8080/"
        },
        "id": "FNfcwmz9wopw",
        "outputId": "29cd6ac0-7e33-43a7-a7e0-09d1b9b4399a"
      },
      "source": [
        "loss, accuracy = model.evaluate(X_train, y_train, verbose=False)\n",
        "print(\"Training Accuracy: {:.4f}\".format(accuracy))\n",
        "loss, accuracy = model.evaluate(X_test, y_test, verbose=False)\n",
        "print(\"Testing Accuracy:  {:.4f}\".format(accuracy))"
      ],
      "execution_count": 11,
      "outputs": [
        {
          "output_type": "stream",
          "text": [
            "Training Accuracy: 0.9799\n",
            "Testing Accuracy:  0.8357\n"
          ],
          "name": "stdout"
        }
      ]
    },
    {
      "cell_type": "code",
      "metadata": {
        "colab": {
          "base_uri": "https://localhost:8080/",
          "height": 549
        },
        "id": "tNIZ5zsOJfYK",
        "outputId": "21186b24-248a-4124-ab3b-1ef1d2f98b55"
      },
      "source": [
        "def plot_graphs(history, string):\n",
        "    plt.plot(history.history[string])\n",
        "    plt.plot(history.history['val_'+string])\n",
        "    plt.xlabel(\"Epochs\")\n",
        "    plt.ylabel(string)\n",
        "    plt.legend([string, 'val_'+string])\n",
        "    plt.show()\n",
        "\n",
        "plot_graphs(history, \"accuracy\")\n",
        "plot_graphs(history, \"loss\")"
      ],
      "execution_count": 12,
      "outputs": [
        {
          "output_type": "display_data",
          "data": {
            "image/png": "[encoded data removed]",
            "text/plain": [
              "<Figure size 432x288 with 1 Axes>"
            ]
          },
          "metadata": {
            "tags": [],
            "needs_background": "light"
          }
        },
        {
          "output_type": "display_data",
          "data": {
            "image/png": "[encoded data removed]",
            "text/plain": [
              "<Figure size 432x288 with 1 Axes>"
            ]
          },
          "metadata": {
            "tags": [],
            "needs_background": "light"
          }
        }
      ]
    }
  ]
}